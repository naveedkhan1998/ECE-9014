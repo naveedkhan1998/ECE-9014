{
 "cells": [
  {
   "cell_type": "code",
   "execution_count": 5,
   "metadata": {},
   "outputs": [],
   "source": [
    "import pandas as pd\n",
    "import plotly.express as px\n",
    "from helper import get_conn\n",
    "import matplotlib.pyplot as plt\n",
    "import plotly.graph_objects as go\n",
    "from datetime import datetime\n",
    "import seaborn as sns\n",
    "import warnings\n",
    "import numpy as np\n",
    "\n",
    "# Suppress warnings\n",
    "warnings.filterwarnings(\"ignore\")\n",
    "\n",
    "# Function to execute a query and return a DataFrame\n",
    "def execute_query(query):\n",
    "    # Connect to the PostgreSQL database\n",
    "    conn, cursor = get_conn()\n",
    "\n",
    "    cursor.execute(query)\n",
    "    columns = [desc[0] for desc in cursor.description]\n",
    "    data = cursor.fetchall()\n",
    "\n",
    "    cursor.close()\n",
    "    conn.close()\n",
    "\n",
    "    return pd.DataFrame(data, columns=columns)\n",
    "\n",
    "\n",
    "# Query to retrieve data from the views\n",
    "views_queries = [\n",
    "    \"SELECT * FROM data_mart.total_sales_by_category_quarter;\",\n",
    "    \"SELECT * FROM data_mart.monthly_sales_trend;\",\n",
    "    \"SELECT * FROM data_mart.top_selling_products;\",\n",
    "    \"SELECT * FROM data_mart.sales_distribution_by_state;\",\n",
    "    \"SELECT * FROM data_mart.sales_performance_by_brand;\",\n",
    "    \"SELECT * FROM data_mart.monthly_sales_by_category_brand;\",\n",
    "]"
   ]
  },
  {
   "cell_type": "markdown",
   "metadata": {},
   "source": [
    "# View 1"
   ]
  },
  {
   "cell_type": "code",
   "execution_count": 6,
   "metadata": {},
   "outputs": [
    {
     "name": "stdout",
     "output_type": "stream",
     "text": [
      "Connected to the database\n"
     ]
    },
    {
     "data": {
      "application/vnd.plotly.v1+json": {
       "config": {
        "plotlyServerURL": "https://plot.ly"
       },
       "data": [
        {
         "alignmentgroup": "True",
         "hovertemplate": "category_name=Cyclocross Bicycles<br>quarter=%{x}<br>Total Sales=%{y}<extra></extra>",
         "legendgroup": "Cyclocross Bicycles",
         "marker": {
          "color": "#636efa",
          "pattern": {
           "shape": ""
          }
         },
         "name": "Cyclocross Bicycles",
         "offsetgroup": "Cyclocross Bicycles",
         "orientation": "v",
         "showlegend": true,
         "textposition": "auto",
         "type": "bar",
         "x": [
          1,
          2,
          3,
          4
         ],
         "xaxis": "x",
         "y": [
          197535.42,
          251661.24,
          148459.59,
          202218.35
         ],
         "yaxis": "y"
        },
        {
         "alignmentgroup": "True",
         "hovertemplate": "category_name=Children Bicycles<br>quarter=%{x}<br>Total Sales=%{y}<extra></extra>",
         "legendgroup": "Children Bicycles",
         "marker": {
          "color": "#EF553B",
          "pattern": {
           "shape": ""
          }
         },
         "name": "Children Bicycles",
         "offsetgroup": "Children Bicycles",
         "orientation": "v",
         "showlegend": true,
         "textposition": "auto",
         "type": "bar",
         "x": [
          1,
          2,
          3,
          4
         ],
         "xaxis": "x",
         "y": [
          105916.15,
          87336.86,
          69297.59,
          65337.61
         ],
         "yaxis": "y"
        },
        {
         "alignmentgroup": "True",
         "hovertemplate": "category_name=Comfort Bicycles<br>quarter=%{x}<br>Total Sales=%{y}<extra></extra>",
         "legendgroup": "Comfort Bicycles",
         "marker": {
          "color": "#00cc96",
          "pattern": {
           "shape": ""
          }
         },
         "name": "Comfort Bicycles",
         "offsetgroup": "Comfort Bicycles",
         "orientation": "v",
         "showlegend": true,
         "textposition": "auto",
         "type": "bar",
         "x": [
          1,
          2,
          3,
          4
         ],
         "xaxis": "x",
         "y": [
          126833.65,
          128787.71,
          90239.28,
          92646.23
         ],
         "yaxis": "y"
        },
        {
         "alignmentgroup": "True",
         "hovertemplate": "category_name=Cruisers Bicycles<br>quarter=%{x}<br>Total Sales=%{y}<extra></extra>",
         "legendgroup": "Cruisers Bicycles",
         "marker": {
          "color": "#ab63fa",
          "pattern": {
           "shape": ""
          }
         },
         "name": "Cruisers Bicycles",
         "offsetgroup": "Cruisers Bicycles",
         "orientation": "v",
         "showlegend": true,
         "textposition": "auto",
         "type": "bar",
         "x": [
          1,
          2,
          3,
          4
         ],
         "xaxis": "x",
         "y": [
          342629,
          320886.17,
          221571.28,
          224064.59
         ],
         "yaxis": "y"
        },
        {
         "alignmentgroup": "True",
         "hovertemplate": "category_name=Mountain Bikes<br>quarter=%{x}<br>Total Sales=%{y}<extra></extra>",
         "legendgroup": "Mountain Bikes",
         "marker": {
          "color": "#FFA15A",
          "pattern": {
           "shape": ""
          }
         },
         "name": "Mountain Bikes",
         "offsetgroup": "Mountain Bikes",
         "orientation": "v",
         "showlegend": true,
         "textposition": "auto",
         "type": "bar",
         "x": [
          1,
          2,
          3,
          4
         ],
         "xaxis": "x",
         "y": [
          918294.99,
          825698.34,
          717053.7,
          569728.68
         ],
         "yaxis": "y"
        },
        {
         "alignmentgroup": "True",
         "hovertemplate": "category_name=Electric Bikes<br>quarter=%{x}<br>Total Sales=%{y}<extra></extra>",
         "legendgroup": "Electric Bikes",
         "marker": {
          "color": "#19d3f3",
          "pattern": {
           "shape": ""
          }
         },
         "name": "Electric Bikes",
         "offsetgroup": "Electric Bikes",
         "orientation": "v",
         "showlegend": true,
         "textposition": "auto",
         "type": "bar",
         "x": [
          1,
          2,
          3,
          4
         ],
         "xaxis": "x",
         "y": [
          334439.02,
          276699.17,
          198819.32,
          210279.34
         ],
         "yaxis": "y"
        },
        {
         "alignmentgroup": "True",
         "hovertemplate": "category_name=Road Bikes<br>quarter=%{x}<br>Total Sales=%{y}<extra></extra>",
         "legendgroup": "Road Bikes",
         "marker": {
          "color": "#FF6692",
          "pattern": {
           "shape": ""
          }
         },
         "name": "Road Bikes",
         "offsetgroup": "Road Bikes",
         "orientation": "v",
         "showlegend": true,
         "textposition": "auto",
         "type": "bar",
         "x": [
          1,
          2,
          3,
          4
         ],
         "xaxis": "x",
         "y": [
          664277.89,
          637117.24,
          274653.28,
          276507.19
         ],
         "yaxis": "y"
        }
       ],
       "layout": {
        "barmode": "group",
        "legend": {
         "title": {
          "text": "Category"
         },
         "tracegroupgap": 0
        },
        "showlegend": true,
        "template": {
         "data": {
          "bar": [
           {
            "error_x": {
             "color": "#2a3f5f"
            },
            "error_y": {
             "color": "#2a3f5f"
            },
            "marker": {
             "line": {
              "color": "#E5ECF6",
              "width": 0.5
             },
             "pattern": {
              "fillmode": "overlay",
              "size": 10,
              "solidity": 0.2
             }
            },
            "type": "bar"
           }
          ],
          "barpolar": [
           {
            "marker": {
             "line": {
              "color": "#E5ECF6",
              "width": 0.5
             },
             "pattern": {
              "fillmode": "overlay",
              "size": 10,
              "solidity": 0.2
             }
            },
            "type": "barpolar"
           }
          ],
          "carpet": [
           {
            "aaxis": {
             "endlinecolor": "#2a3f5f",
             "gridcolor": "white",
             "linecolor": "white",
             "minorgridcolor": "white",
             "startlinecolor": "#2a3f5f"
            },
            "baxis": {
             "endlinecolor": "#2a3f5f",
             "gridcolor": "white",
             "linecolor": "white",
             "minorgridcolor": "white",
             "startlinecolor": "#2a3f5f"
            },
            "type": "carpet"
           }
          ],
          "choropleth": [
           {
            "colorbar": {
             "outlinewidth": 0,
             "ticks": ""
            },
            "type": "choropleth"
           }
          ],
          "contour": [
           {
            "colorbar": {
             "outlinewidth": 0,
             "ticks": ""
            },
            "colorscale": [
             [
              0,
              "#0d0887"
             ],
             [
              0.1111111111111111,
              "#46039f"
             ],
             [
              0.2222222222222222,
              "#7201a8"
             ],
             [
              0.3333333333333333,
              "#9c179e"
             ],
             [
              0.4444444444444444,
              "#bd3786"
             ],
             [
              0.5555555555555556,
              "#d8576b"
             ],
             [
              0.6666666666666666,
              "#ed7953"
             ],
             [
              0.7777777777777778,
              "#fb9f3a"
             ],
             [
              0.8888888888888888,
              "#fdca26"
             ],
             [
              1,
              "#f0f921"
             ]
            ],
            "type": "contour"
           }
          ],
          "contourcarpet": [
           {
            "colorbar": {
             "outlinewidth": 0,
             "ticks": ""
            },
            "type": "contourcarpet"
           }
          ],
          "heatmap": [
           {
            "colorbar": {
             "outlinewidth": 0,
             "ticks": ""
            },
            "colorscale": [
             [
              0,
              "#0d0887"
             ],
             [
              0.1111111111111111,
              "#46039f"
             ],
             [
              0.2222222222222222,
              "#7201a8"
             ],
             [
              0.3333333333333333,
              "#9c179e"
             ],
             [
              0.4444444444444444,
              "#bd3786"
             ],
             [
              0.5555555555555556,
              "#d8576b"
             ],
             [
              0.6666666666666666,
              "#ed7953"
             ],
             [
              0.7777777777777778,
              "#fb9f3a"
             ],
             [
              0.8888888888888888,
              "#fdca26"
             ],
             [
              1,
              "#f0f921"
             ]
            ],
            "type": "heatmap"
           }
          ],
          "heatmapgl": [
           {
            "colorbar": {
             "outlinewidth": 0,
             "ticks": ""
            },
            "colorscale": [
             [
              0,
              "#0d0887"
             ],
             [
              0.1111111111111111,
              "#46039f"
             ],
             [
              0.2222222222222222,
              "#7201a8"
             ],
             [
              0.3333333333333333,
              "#9c179e"
             ],
             [
              0.4444444444444444,
              "#bd3786"
             ],
             [
              0.5555555555555556,
              "#d8576b"
             ],
             [
              0.6666666666666666,
              "#ed7953"
             ],
             [
              0.7777777777777778,
              "#fb9f3a"
             ],
             [
              0.8888888888888888,
              "#fdca26"
             ],
             [
              1,
              "#f0f921"
             ]
            ],
            "type": "heatmapgl"
           }
          ],
          "histogram": [
           {
            "marker": {
             "pattern": {
              "fillmode": "overlay",
              "size": 10,
              "solidity": 0.2
             }
            },
            "type": "histogram"
           }
          ],
          "histogram2d": [
           {
            "colorbar": {
             "outlinewidth": 0,
             "ticks": ""
            },
            "colorscale": [
             [
              0,
              "#0d0887"
             ],
             [
              0.1111111111111111,
              "#46039f"
             ],
             [
              0.2222222222222222,
              "#7201a8"
             ],
             [
              0.3333333333333333,
              "#9c179e"
             ],
             [
              0.4444444444444444,
              "#bd3786"
             ],
             [
              0.5555555555555556,
              "#d8576b"
             ],
             [
              0.6666666666666666,
              "#ed7953"
             ],
             [
              0.7777777777777778,
              "#fb9f3a"
             ],
             [
              0.8888888888888888,
              "#fdca26"
             ],
             [
              1,
              "#f0f921"
             ]
            ],
            "type": "histogram2d"
           }
          ],
          "histogram2dcontour": [
           {
            "colorbar": {
             "outlinewidth": 0,
             "ticks": ""
            },
            "colorscale": [
             [
              0,
              "#0d0887"
             ],
             [
              0.1111111111111111,
              "#46039f"
             ],
             [
              0.2222222222222222,
              "#7201a8"
             ],
             [
              0.3333333333333333,
              "#9c179e"
             ],
             [
              0.4444444444444444,
              "#bd3786"
             ],
             [
              0.5555555555555556,
              "#d8576b"
             ],
             [
              0.6666666666666666,
              "#ed7953"
             ],
             [
              0.7777777777777778,
              "#fb9f3a"
             ],
             [
              0.8888888888888888,
              "#fdca26"
             ],
             [
              1,
              "#f0f921"
             ]
            ],
            "type": "histogram2dcontour"
           }
          ],
          "mesh3d": [
           {
            "colorbar": {
             "outlinewidth": 0,
             "ticks": ""
            },
            "type": "mesh3d"
           }
          ],
          "parcoords": [
           {
            "line": {
             "colorbar": {
              "outlinewidth": 0,
              "ticks": ""
             }
            },
            "type": "parcoords"
           }
          ],
          "pie": [
           {
            "automargin": true,
            "type": "pie"
           }
          ],
          "scatter": [
           {
            "fillpattern": {
             "fillmode": "overlay",
             "size": 10,
             "solidity": 0.2
            },
            "type": "scatter"
           }
          ],
          "scatter3d": [
           {
            "line": {
             "colorbar": {
              "outlinewidth": 0,
              "ticks": ""
             }
            },
            "marker": {
             "colorbar": {
              "outlinewidth": 0,
              "ticks": ""
             }
            },
            "type": "scatter3d"
           }
          ],
          "scattercarpet": [
           {
            "marker": {
             "colorbar": {
              "outlinewidth": 0,
              "ticks": ""
             }
            },
            "type": "scattercarpet"
           }
          ],
          "scattergeo": [
           {
            "marker": {
             "colorbar": {
              "outlinewidth": 0,
              "ticks": ""
             }
            },
            "type": "scattergeo"
           }
          ],
          "scattergl": [
           {
            "marker": {
             "colorbar": {
              "outlinewidth": 0,
              "ticks": ""
             }
            },
            "type": "scattergl"
           }
          ],
          "scattermapbox": [
           {
            "marker": {
             "colorbar": {
              "outlinewidth": 0,
              "ticks": ""
             }
            },
            "type": "scattermapbox"
           }
          ],
          "scatterpolar": [
           {
            "marker": {
             "colorbar": {
              "outlinewidth": 0,
              "ticks": ""
             }
            },
            "type": "scatterpolar"
           }
          ],
          "scatterpolargl": [
           {
            "marker": {
             "colorbar": {
              "outlinewidth": 0,
              "ticks": ""
             }
            },
            "type": "scatterpolargl"
           }
          ],
          "scatterternary": [
           {
            "marker": {
             "colorbar": {
              "outlinewidth": 0,
              "ticks": ""
             }
            },
            "type": "scatterternary"
           }
          ],
          "surface": [
           {
            "colorbar": {
             "outlinewidth": 0,
             "ticks": ""
            },
            "colorscale": [
             [
              0,
              "#0d0887"
             ],
             [
              0.1111111111111111,
              "#46039f"
             ],
             [
              0.2222222222222222,
              "#7201a8"
             ],
             [
              0.3333333333333333,
              "#9c179e"
             ],
             [
              0.4444444444444444,
              "#bd3786"
             ],
             [
              0.5555555555555556,
              "#d8576b"
             ],
             [
              0.6666666666666666,
              "#ed7953"
             ],
             [
              0.7777777777777778,
              "#fb9f3a"
             ],
             [
              0.8888888888888888,
              "#fdca26"
             ],
             [
              1,
              "#f0f921"
             ]
            ],
            "type": "surface"
           }
          ],
          "table": [
           {
            "cells": {
             "fill": {
              "color": "#EBF0F8"
             },
             "line": {
              "color": "white"
             }
            },
            "header": {
             "fill": {
              "color": "#C8D4E3"
             },
             "line": {
              "color": "white"
             }
            },
            "type": "table"
           }
          ]
         },
         "layout": {
          "annotationdefaults": {
           "arrowcolor": "#2a3f5f",
           "arrowhead": 0,
           "arrowwidth": 1
          },
          "autotypenumbers": "strict",
          "coloraxis": {
           "colorbar": {
            "outlinewidth": 0,
            "ticks": ""
           }
          },
          "colorscale": {
           "diverging": [
            [
             0,
             "#8e0152"
            ],
            [
             0.1,
             "#c51b7d"
            ],
            [
             0.2,
             "#de77ae"
            ],
            [
             0.3,
             "#f1b6da"
            ],
            [
             0.4,
             "#fde0ef"
            ],
            [
             0.5,
             "#f7f7f7"
            ],
            [
             0.6,
             "#e6f5d0"
            ],
            [
             0.7,
             "#b8e186"
            ],
            [
             0.8,
             "#7fbc41"
            ],
            [
             0.9,
             "#4d9221"
            ],
            [
             1,
             "#276419"
            ]
           ],
           "sequential": [
            [
             0,
             "#0d0887"
            ],
            [
             0.1111111111111111,
             "#46039f"
            ],
            [
             0.2222222222222222,
             "#7201a8"
            ],
            [
             0.3333333333333333,
             "#9c179e"
            ],
            [
             0.4444444444444444,
             "#bd3786"
            ],
            [
             0.5555555555555556,
             "#d8576b"
            ],
            [
             0.6666666666666666,
             "#ed7953"
            ],
            [
             0.7777777777777778,
             "#fb9f3a"
            ],
            [
             0.8888888888888888,
             "#fdca26"
            ],
            [
             1,
             "#f0f921"
            ]
           ],
           "sequentialminus": [
            [
             0,
             "#0d0887"
            ],
            [
             0.1111111111111111,
             "#46039f"
            ],
            [
             0.2222222222222222,
             "#7201a8"
            ],
            [
             0.3333333333333333,
             "#9c179e"
            ],
            [
             0.4444444444444444,
             "#bd3786"
            ],
            [
             0.5555555555555556,
             "#d8576b"
            ],
            [
             0.6666666666666666,
             "#ed7953"
            ],
            [
             0.7777777777777778,
             "#fb9f3a"
            ],
            [
             0.8888888888888888,
             "#fdca26"
            ],
            [
             1,
             "#f0f921"
            ]
           ]
          },
          "colorway": [
           "#636efa",
           "#EF553B",
           "#00cc96",
           "#ab63fa",
           "#FFA15A",
           "#19d3f3",
           "#FF6692",
           "#B6E880",
           "#FF97FF",
           "#FECB52"
          ],
          "font": {
           "color": "#2a3f5f"
          },
          "geo": {
           "bgcolor": "white",
           "lakecolor": "white",
           "landcolor": "#E5ECF6",
           "showlakes": true,
           "showland": true,
           "subunitcolor": "white"
          },
          "hoverlabel": {
           "align": "left"
          },
          "hovermode": "closest",
          "mapbox": {
           "style": "light"
          },
          "paper_bgcolor": "white",
          "plot_bgcolor": "#E5ECF6",
          "polar": {
           "angularaxis": {
            "gridcolor": "white",
            "linecolor": "white",
            "ticks": ""
           },
           "bgcolor": "#E5ECF6",
           "radialaxis": {
            "gridcolor": "white",
            "linecolor": "white",
            "ticks": ""
           }
          },
          "scene": {
           "xaxis": {
            "backgroundcolor": "#E5ECF6",
            "gridcolor": "white",
            "gridwidth": 2,
            "linecolor": "white",
            "showbackground": true,
            "ticks": "",
            "zerolinecolor": "white"
           },
           "yaxis": {
            "backgroundcolor": "#E5ECF6",
            "gridcolor": "white",
            "gridwidth": 2,
            "linecolor": "white",
            "showbackground": true,
            "ticks": "",
            "zerolinecolor": "white"
           },
           "zaxis": {
            "backgroundcolor": "#E5ECF6",
            "gridcolor": "white",
            "gridwidth": 2,
            "linecolor": "white",
            "showbackground": true,
            "ticks": "",
            "zerolinecolor": "white"
           }
          },
          "shapedefaults": {
           "line": {
            "color": "#2a3f5f"
           }
          },
          "ternary": {
           "aaxis": {
            "gridcolor": "white",
            "linecolor": "white",
            "ticks": ""
           },
           "baxis": {
            "gridcolor": "white",
            "linecolor": "white",
            "ticks": ""
           },
           "bgcolor": "#E5ECF6",
           "caxis": {
            "gridcolor": "white",
            "linecolor": "white",
            "ticks": ""
           }
          },
          "title": {
           "x": 0.05
          },
          "xaxis": {
           "automargin": true,
           "gridcolor": "white",
           "linecolor": "white",
           "ticks": "",
           "title": {
            "standoff": 15
           },
           "zerolinecolor": "white",
           "zerolinewidth": 2
          },
          "yaxis": {
           "automargin": true,
           "gridcolor": "white",
           "linecolor": "white",
           "ticks": "",
           "title": {
            "standoff": 15
           },
           "zerolinecolor": "white",
           "zerolinewidth": 2
          }
         }
        },
        "title": {
         "text": "Total Sales by Category and Quarter"
        },
        "xaxis": {
         "anchor": "y",
         "domain": [
          0,
          1
         ],
         "title": {
          "text": "Quarter"
         }
        },
        "yaxis": {
         "anchor": "x",
         "domain": [
          0,
          1
         ],
         "title": {
          "text": "Total Sales"
         }
        }
       }
      }
     },
     "metadata": {},
     "output_type": "display_data"
    }
   ],
   "source": [
    "df = execute_query(views_queries[0])\n",
    "# Convert 'total_sales' to numeric if needed\n",
    "df['total_sales'] = pd.to_numeric(df['total_sales'], errors='coerce')\n",
    "\n",
    "# Create a side-by-side bar chart with Plotly\n",
    "fig = px.bar(\n",
    "    df, \n",
    "    x='quarter', \n",
    "    y='total_sales', \n",
    "    color='category_name', \n",
    "    barmode='group',\n",
    "    labels={'total_sales': 'Total Sales'},\n",
    "    title='Total Sales by Category and Quarter'\n",
    ")\n",
    "\n",
    "# Customizing layout\n",
    "fig.update_layout(\n",
    "    xaxis_title='Quarter',\n",
    "    yaxis_title='Total Sales',\n",
    "    legend_title='Category',\n",
    "    barmode='group',\n",
    "    showlegend=True\n",
    ")\n",
    "\n",
    "# Show the interactive plot\n",
    "fig.show()"
   ]
  },
  {
   "cell_type": "markdown",
   "metadata": {},
   "source": [
    "# View 2"
   ]
  },
  {
   "cell_type": "code",
   "execution_count": 7,
   "metadata": {},
   "outputs": [
    {
     "name": "stdout",
     "output_type": "stream",
     "text": [
      "Connected to the database\n"
     ]
    },
    {
     "data": {
      "image/png": "[encoded data removed]",
      "text/plain": [
       "<Figure size 640x480 with 1 Axes>"
      ]
     },
     "metadata": {},
     "output_type": "display_data"
    }
   ],
   "source": [
    "df = execute_query(views_queries[1])\n",
    "# Create a line chart\n",
    "fig, ax = plt.subplots()\n",
    "for year, group in df.groupby('year'):\n",
    "    ax.plot(group['month'], group['monthly_sales'], marker='o', label=str(year))\n",
    "\n",
    "# Customize the plot\n",
    "ax.set(xlabel='Month', ylabel='Monthly Sales', title='Monthly Sales Trend by Year')\n",
    "ax.legend(title='Year')\n",
    "plt.grid(True)\n",
    "plt.show()"
   ]
  },
  {
   "cell_type": "markdown",
   "metadata": {},
   "source": [
    "# View 3"
   ]
  },
  {
   "cell_type": "code",
   "execution_count": 8,
   "metadata": {},
   "outputs": [
    {
     "name": "stdout",
     "output_type": "stream",
     "text": [
      "Connected to the database\n"
     ]
    },
    {
     "data": {
      "image/png": "[encoded data removed]",
      "text/plain": [
       "<Figure size 1000x600 with 1 Axes>"
      ]
     },
     "metadata": {},
     "output_type": "display_data"
    }
   ],
   "source": [
    "df = execute_query(views_queries[2])\n",
    "# Sort DataFrame by total_sold in descending order\n",
    "df = df.sort_values(by=\"total_sold\", ascending=False)\n",
    "\n",
    "# Set Seaborn style\n",
    "sns.set(style=\"whitegrid\")\n",
    "\n",
    "# Create a horizontal bar chart with Seaborn\n",
    "plt.figure(figsize=(10, 6))\n",
    "bar_plot = sns.barplot(x=\"total_sold\", y=\"product_name\", data=df, palette=\"muted\")\n",
    "\n",
    "# Add data labels\n",
    "for p in bar_plot.patches:\n",
    "    width = p.get_width()\n",
    "    plt.text(\n",
    "        width + 10,\n",
    "        p.get_y() + p.get_height() / 2,\n",
    "        f\"{width:.0f}\",\n",
    "        va=\"center\",\n",
    "        fontsize=10,\n",
    "    )\n",
    "\n",
    "# Customizing layout\n",
    "plt.title(\"Top 10 Selling Products\", fontsize=16)\n",
    "plt.xlabel(\"Total Sold\", fontsize=12)\n",
    "plt.ylabel(\"Product Name\", fontsize=12)\n",
    "\n",
    "# Show the plot\n",
    "plt.show()"
   ]
  },
  {
   "cell_type": "markdown",
   "metadata": {},
   "source": [
    "# View 4"
   ]
  },
  {
   "cell_type": "code",
   "execution_count": 10,
   "metadata": {},
   "outputs": [
    {
     "name": "stdout",
     "output_type": "stream",
     "text": [
      "Connected to the database\n"
     ]
    },
    {
     "data": {
      "image/png": "[encoded data removed]",
      "text/plain": [
       "<Figure size 1000x600 with 1 Axes>"
      ]
     },
     "metadata": {},
     "output_type": "display_data"
    }
   ],
   "source": [
    "df = execute_query(views_queries[3])\n",
    "import matplotlib.pyplot as plt\n",
    "import seaborn as sns\n",
    "\n",
    "# Sort DataFrame by total_sales in descending order\n",
    "df = df.sort_values(by=\"total_sales\", ascending=False)\n",
    "\n",
    "# Function to format sales labels\n",
    "def format_sales_label(sales):\n",
    "    sales_float = float(sales)\n",
    "    if sales_float >= 1e6:\n",
    "        return f\"{sales_float/1e6:.1f}M\"\n",
    "    elif sales_float >= 1e3:\n",
    "        return f\"{sales_float/1e3:.1f}k\"\n",
    "    else:\n",
    "        return f\"{sales_float:.0f}\"\n",
    "\n",
    "# Apply the formatting function to the total_sales column\n",
    "df[\"formatted_sales\"] = df[\"total_sales\"].apply(format_sales_label)\n",
    "\n",
    "# Set custom color palette\n",
    "colors = sns.color_palette(\"muted\", len(df))\n",
    "\n",
    "# Create a pie chart with Matplotlib using the custom color palette\n",
    "plt.figure(figsize=(10, 6))\n",
    "pie_plot = plt.pie(df[\"total_sales\"], labels=df[\"store_state\"], autopct='%1.1f%%', colors=colors)\n",
    "\n",
    "# Add data labels\n",
    "for i, (label, formatted_sales) in enumerate(zip(df[\"store_state\"], df[\"formatted_sales\"])):\n",
    "    plt.text(1.2, 0.8 - 0.1*i, f\"{label}: {formatted_sales}\", fontsize=10, verticalalignment=\"center\")\n",
    "\n",
    "# Customizing layout\n",
    "plt.title(\"Sales Distribution by State\", fontsize=16)\n",
    "\n",
    "# Manually create legend with correct colors\n",
    "legend_labels = df[\"store_state\"]\n",
    "legend_handles = [\n",
    "    plt.Line2D([0], [0], marker=\"o\", color=\"w\", markerfacecolor=color, markersize=10)\n",
    "    for color in colors\n",
    "]\n",
    "plt.legend(legend_handles, legend_labels, title=\"Legend\", loc=\"lower right\")\n",
    "\n",
    "# Show the plot\n",
    "plt.show()\n"
   ]
  },
  {
   "cell_type": "markdown",
   "metadata": {},
   "source": [
    "# View 5"
   ]
  },
  {
   "cell_type": "code",
   "execution_count": 11,
   "metadata": {},
   "outputs": [
    {
     "name": "stdout",
     "output_type": "stream",
     "text": [
      "Connected to the database\n"
     ]
    },
    {
     "data": {
      "image/png": "[encoded data removed]",
      "text/plain": [
       "<Figure size 1000x600 with 1 Axes>"
      ]
     },
     "metadata": {},
     "output_type": "display_data"
    }
   ],
   "source": [
    "df = execute_query(views_queries[4])\n",
    "# Sort DataFrame by total_sales in descending order\n",
    "df = df.sort_values(by=\"total_sales\", ascending=True)\n",
    "\n",
    "\n",
    "# Function to format sales labels\n",
    "def format_sales_label(sales):\n",
    "    sales_float = float(sales)\n",
    "    if sales_float >= 1e6:\n",
    "        return f\"{sales_float/1e6:.1f}M\"\n",
    "    elif sales_float >= 1e3:\n",
    "        return f\"{sales_float/1e3:.1f}k\"\n",
    "    else:\n",
    "        return f\"{sales_float:.0f}\"\n",
    "\n",
    "\n",
    "# Apply the formatting function to the total_sales column\n",
    "df[\"formatted_sales\"] = df[\"total_sales\"].apply(format_sales_label)\n",
    "\n",
    "# Set custom color palette\n",
    "colors = sns.color_palette(\"viridis\", len(df))\n",
    "\n",
    "# Create a bar chart with Seaborn using the custom color palette\n",
    "plt.figure(figsize=(10, 6))\n",
    "bar_plot = sns.barplot(x=\"total_sales\", y=\"brand_name\", data=df, palette=colors)\n",
    "\n",
    "# Add data labels\n",
    "for p, label in zip(bar_plot.patches, df[\"formatted_sales\"]):\n",
    "    width = p.get_width()\n",
    "    plt.text(\n",
    "        width + 200000, p.get_y() + p.get_height() / 2, label, va=\"center\", fontsize=10\n",
    "    )\n",
    "\n",
    "# Customizing layout\n",
    "plt.title(\"Sales Performance by Brand\", fontsize=16)\n",
    "plt.xlabel(\"Total Sales\", fontsize=12)\n",
    "plt.ylabel(\"Brand Name\", fontsize=12)\n",
    "\n",
    "# Add legend to the top right\n",
    "legend_labels = df[\"brand_name\"]\n",
    "legend_handles = [\n",
    "    plt.Line2D([0], [0], marker=\"o\", color=\"w\", markerfacecolor=color, markersize=10)\n",
    "    for color in colors\n",
    "]\n",
    "plt.legend(legend_handles, legend_labels, title=\"Legend\", loc=\"upper right\")\n",
    "\n",
    "# Show the plot\n",
    "plt.show()"
   ]
  },
  {
   "cell_type": "markdown",
   "metadata": {},
   "source": [
    "# View 6"
   ]
  },
  {
   "cell_type": "code",
   "execution_count": 13,
   "metadata": {},
   "outputs": [
    {
     "name": "stdout",
     "output_type": "stream",
     "text": [
      "Connected to the database\n"
     ]
    },
    {
     "data": {
      "application/vnd.plotly.v1+json": {
       "config": {
        "plotlyServerURL": "https://plot.ly"
       },
       "data": [
        {
         "branchvalues": "total",
         "domain": {
          "x": [
           0,
           1
          ],
          "y": [
           0,
           1
          ]
         },
         "hovertemplate": "labels=%{label}<br>monthly_sales=%{value}<br>parent=%{parent}<br>id=%{id}<extra></extra>",
         "ids": [
          "2016/1/Children Bicycles/Electra",
          "2017/1/Children Bicycles/Electra",
          "2018/1/Children Bicycles/Electra",
          "2016/2/Children Bicycles/Electra",
          "2017/2/Children Bicycles/Electra",
          "2018/2/Children Bicycles/Electra",
          "2016/3/Children Bicycles/Electra",
          "2017/3/Children Bicycles/Electra",
          "2018/3/Children Bicycles/Electra",
          "2016/4/Children Bicycles/Electra",
          "2017/4/Children Bicycles/Electra",
          "2018/4/Children Bicycles/Electra",
          "2016/5/Children Bicycles/Electra",
          "2017/5/Children Bicycles/Electra",
          "2016/6/Children Bicycles/Electra",
          "2017/6/Children Bicycles/Electra",
          "2016/7/Children Bicycles/Electra",
          "2017/7/Children Bicycles/Electra",
          "2016/8/Children Bicycles/Electra",
          "2017/8/Children Bicycles/Electra",
          "2018/8/Children Bicycles/Electra",
          "2016/9/Children Bicycles/Electra",
          "2017/9/Children Bicycles/Electra",
          "2016/10/Children Bicycles/Electra",
          "2017/10/Children Bicycles/Electra",
          "2018/10/Children Bicycles/Electra",
          "2016/11/Children Bicycles/Electra",
          "2017/11/Children Bicycles/Electra",
          "2018/11/Children Bicycles/Electra",
          "2016/12/Children Bicycles/Electra",
          "2017/12/Children Bicycles/Electra",
          "2016/1/Comfort Bicycles/Electra",
          "2017/1/Comfort Bicycles/Electra",
          "2018/1/Comfort Bicycles/Electra",
          "2016/2/Comfort Bicycles/Electra",
          "2017/2/Comfort Bicycles/Electra",
          "2018/2/Comfort Bicycles/Electra",
          "2016/3/Comfort Bicycles/Electra",
          "2017/3/Comfort Bicycles/Electra",
          "2018/3/Comfort Bicycles/Electra",
          "2016/4/Comfort Bicycles/Electra",
          "2017/4/Comfort Bicycles/Electra",
          "2018/4/Comfort Bicycles/Electra",
          "2016/5/Comfort Bicycles/Electra",
          "2017/5/Comfort Bicycles/Electra",
          "2016/6/Comfort Bicycles/Electra",
          "2017/6/Comfort Bicycles/Electra",
          "2016/7/Comfort Bicycles/Electra",
          "2017/7/Comfort Bicycles/Electra",
          "2018/7/Comfort Bicycles/Electra",
          "2016/8/Comfort Bicycles/Electra",
          "2017/8/Comfort Bicycles/Electra",
          "2016/9/Comfort Bicycles/Electra",
          "2017/9/Comfort Bicycles/Electra",
          "2016/10/Comfort Bicycles/Electra",
          "2017/10/Comfort Bicycles/Electra",
          "2016/11/Comfort Bicycles/Electra",
          "2017/11/Comfort Bicycles/Electra",
          "2016/12/Comfort Bicycles/Electra",
          "2017/12/Comfort Bicycles/Electra",
          "2016/1/Cruisers Bicycles/Electra",
          "2017/1/Cruisers Bicycles/Electra",
          "2018/1/Cruisers Bicycles/Electra",
          "2016/2/Cruisers Bicycles/Electra",
          "2017/2/Cruisers Bicycles/Electra",
          "2018/2/Cruisers Bicycles/Electra",
          "2016/3/Cruisers Bicycles/Electra",
          "2017/3/Cruisers Bicycles/Electra",
          "2018/3/Cruisers Bicycles/Electra",
          "2016/4/Cruisers Bicycles/Electra",
          "2017/4/Cruisers Bicycles/Electra",
          "2018/4/Cruisers Bicycles/Electra",
          "2016/5/Cruisers Bicycles/Electra",
          "2017/5/Cruisers Bicycles/Electra",
          "2016/6/Cruisers Bicycles/Electra",
          "2017/6/Cruisers Bicycles/Electra",
          "2016/7/Cruisers Bicycles/Electra",
          "2017/7/Cruisers Bicycles/Electra",
          "2018/7/Cruisers Bicycles/Electra",
          "2016/8/Cruisers Bicycles/Electra",
          "2017/8/Cruisers Bicycles/Electra",
          "2018/8/Cruisers Bicycles/Electra",
          "2016/9/Cruisers Bicycles/Electra",
          "2017/9/Cruisers Bicycles/Electra",
          "2018/9/Cruisers Bicycles/Electra",
          "2016/10/Cruisers Bicycles/Electra",
          "2017/10/Cruisers Bicycles/Electra",
          "2018/10/Cruisers Bicycles/Electra",
          "2016/11/Cruisers Bicycles/Electra",
          "2017/11/Cruisers Bicycles/Electra",
          "2018/11/Cruisers Bicycles/Electra",
          "2016/12/Cruisers Bicycles/Electra",
          "2017/12/Cruisers Bicycles/Electra",
          "2018/12/Cruisers Bicycles/Electra",
          "2018/1/Electric Bikes/Electra",
          "2018/3/Electric Bikes/Electra",
          "2018/4/Electric Bikes/Electra",
          "2018/9/Electric Bikes/Electra",
          "2017/1/Children Bicycles/Haro",
          "2018/1/Children Bicycles/Haro",
          "2017/2/Children Bicycles/Haro",
          "2018/2/Children Bicycles/Haro",
          "2017/3/Children Bicycles/Haro",
          "2018/3/Children Bicycles/Haro",
          "2017/4/Children Bicycles/Haro",
          "2018/4/Children Bicycles/Haro",
          "2017/5/Children Bicycles/Haro",
          "2017/6/Children Bicycles/Haro",
          "2017/7/Children Bicycles/Haro",
          "2017/8/Children Bicycles/Haro",
          "2017/9/Children Bicycles/Haro",
          "2017/10/Children Bicycles/Haro",
          "2017/11/Children Bicycles/Haro",
          "2017/12/Children Bicycles/Haro",
          "2017/1/Mountain Bikes/Haro",
          "2017/2/Mountain Bikes/Haro",
          "2018/2/Mountain Bikes/Haro",
          "2017/3/Mountain Bikes/Haro",
          "2018/3/Mountain Bikes/Haro",
          "2017/4/Mountain Bikes/Haro",
          "2018/4/Mountain Bikes/Haro",
          "2017/5/Mountain Bikes/Haro",
          "2017/6/Mountain Bikes/Haro",
          "2017/7/Mountain Bikes/Haro",
          "2017/8/Mountain Bikes/Haro",
          "2017/9/Mountain Bikes/Haro",
          "2017/10/Mountain Bikes/Haro",
          "2017/11/Mountain Bikes/Haro",
          "2017/12/Mountain Bikes/Haro",
          "2016/1/Mountain Bikes/Heller",
          "2017/1/Mountain Bikes/Heller",
          "2018/1/Mountain Bikes/Heller",
          "2016/2/Mountain Bikes/Heller",
          "2017/2/Mountain Bikes/Heller",
          "2018/2/Mountain Bikes/Heller",
          "2016/3/Mountain Bikes/Heller",
          "2017/3/Mountain Bikes/Heller",
          "2018/3/Mountain Bikes/Heller",
          "2016/4/Mountain Bikes/Heller",
          "2017/4/Mountain Bikes/Heller",
          "2018/4/Mountain Bikes/Heller",
          "2016/5/Mountain Bikes/Heller",
          "2017/5/Mountain Bikes/Heller",
          "2016/6/Mountain Bikes/Heller",
          "2017/6/Mountain Bikes/Heller",
          "2016/7/Mountain Bikes/Heller",
          "2017/7/Mountain Bikes/Heller",
          "2016/8/Mountain Bikes/Heller",
          "2017/8/Mountain Bikes/Heller",
          "2016/9/Mountain Bikes/Heller",
          "2017/9/Mountain Bikes/Heller",
          "2016/10/Mountain Bikes/Heller",
          "2016/11/Mountain Bikes/Heller",
          "2016/12/Mountain Bikes/Heller",
          "2017/12/Mountain Bikes/Heller",
          "2016/1/Cruisers Bicycles/Pure Cycles",
          "2017/1/Cruisers Bicycles/Pure Cycles",
          "2018/1/Cruisers Bicycles/Pure Cycles",
          "2016/2/Cruisers Bicycles/Pure Cycles",
          "2017/2/Cruisers Bicycles/Pure Cycles",
          "2016/3/Cruisers Bicycles/Pure Cycles",
          "2017/3/Cruisers Bicycles/Pure Cycles",
          "2018/3/Cruisers Bicycles/Pure Cycles",
          "2016/4/Cruisers Bicycles/Pure Cycles",
          "2017/4/Cruisers Bicycles/Pure Cycles",
          "2018/4/Cruisers Bicycles/Pure Cycles",
          "2016/5/Cruisers Bicycles/Pure Cycles",
          "2017/5/Cruisers Bicycles/Pure Cycles",
          "2016/6/Cruisers Bicycles/Pure Cycles",
          "2017/6/Cruisers Bicycles/Pure Cycles",
          "2016/7/Cruisers Bicycles/Pure Cycles",
          "2017/7/Cruisers Bicycles/Pure Cycles",
          "2016/8/Cruisers Bicycles/Pure Cycles",
          "2017/8/Cruisers Bicycles/Pure Cycles",
          "2016/9/Cruisers Bicycles/Pure Cycles",
          "2017/9/Cruisers Bicycles/Pure Cycles",
          "2016/10/Cruisers Bicycles/Pure Cycles",
          "2017/10/Cruisers Bicycles/Pure Cycles",
          "2016/11/Cruisers Bicycles/Pure Cycles",
          "2017/11/Cruisers Bicycles/Pure Cycles",
          "2016/12/Cruisers Bicycles/Pure Cycles",
          "2017/12/Cruisers Bicycles/Pure Cycles",
          "2016/1/Mountain Bikes/Ritchey",
          "2017/1/Mountain Bikes/Ritchey",
          "2018/1/Mountain Bikes/Ritchey",
          "2016/2/Mountain Bikes/Ritchey",
          "2018/2/Mountain Bikes/Ritchey",
          "2016/3/Mountain Bikes/Ritchey",
          "2017/3/Mountain Bikes/Ritchey",
          "2016/4/Mountain Bikes/Ritchey",
          "2017/4/Mountain Bikes/Ritchey",
          "2018/4/Mountain Bikes/Ritchey",
          "2016/5/Mountain Bikes/Ritchey",
          "2017/5/Mountain Bikes/Ritchey",
          "2016/6/Mountain Bikes/Ritchey",
          "2016/7/Mountain Bikes/Ritchey",
          "2017/7/Mountain Bikes/Ritchey",
          "2016/8/Mountain Bikes/Ritchey",
          "2017/8/Mountain Bikes/Ritchey",
          "2016/9/Mountain Bikes/Ritchey",
          "2017/9/Mountain Bikes/Ritchey",
          "2016/10/Mountain Bikes/Ritchey",
          "2016/11/Mountain Bikes/Ritchey",
          "2016/12/Mountain Bikes/Ritchey",
          "2017/12/Mountain Bikes/Ritchey",
          "2018/1/Children Bicycles/Strider",
          "2018/2/Children Bicycles/Strider",
          "2018/3/Children Bicycles/Strider",
          "2018/4/Children Bicycles/Strider",
          "2017/1/Children Bicycles/Sun Bicycles",
          "2018/1/Children Bicycles/Sun Bicycles",
          "2017/2/Children Bicycles/Sun Bicycles",
          "2018/3/Children Bicycles/Sun Bicycles",
          "2017/5/Children Bicycles/Sun Bicycles",
          "2017/7/Children Bicycles/Sun Bicycles",
          "2017/9/Children Bicycles/Sun Bicycles",
          "2017/10/Children Bicycles/Sun Bicycles",
          "2017/11/Children Bicycles/Sun Bicycles",
          "2017/1/Comfort Bicycles/Sun Bicycles",
          "2018/1/Comfort Bicycles/Sun Bicycles",
          "2017/2/Comfort Bicycles/Sun Bicycles",
          "2018/2/Comfort Bicycles/Sun Bicycles",
          "2017/3/Comfort Bicycles/Sun Bicycles",
          "2018/3/Comfort Bicycles/Sun Bicycles",
          "2017/4/Comfort Bicycles/Sun Bicycles",
          "2018/4/Comfort Bicycles/Sun Bicycles",
          "2017/5/Comfort Bicycles/Sun Bicycles",
          "2017/6/Comfort Bicycles/Sun Bicycles",
          "2017/7/Comfort Bicycles/Sun Bicycles",
          "2017/8/Comfort Bicycles/Sun Bicycles",
          "2018/8/Comfort Bicycles/Sun Bicycles",
          "2017/9/Comfort Bicycles/Sun Bicycles",
          "2017/10/Comfort Bicycles/Sun Bicycles",
          "2017/11/Comfort Bicycles/Sun Bicycles",
          "2017/12/Comfort Bicycles/Sun Bicycles",
          "2017/1/Cruisers Bicycles/Sun Bicycles",
          "2018/1/Cruisers Bicycles/Sun Bicycles",
          "2017/2/Cruisers Bicycles/Sun Bicycles",
          "2018/2/Cruisers Bicycles/Sun Bicycles",
          "2017/3/Cruisers Bicycles/Sun Bicycles",
          "2018/3/Cruisers Bicycles/Sun Bicycles",
          "2017/4/Cruisers Bicycles/Sun Bicycles",
          "2018/4/Cruisers Bicycles/Sun Bicycles",
          "2017/5/Cruisers Bicycles/Sun Bicycles",
          "2017/6/Cruisers Bicycles/Sun Bicycles",
          "2017/7/Cruisers Bicycles/Sun Bicycles",
          "2018/7/Cruisers Bicycles/Sun Bicycles",
          "2017/8/Cruisers Bicycles/Sun Bicycles",
          "2017/9/Cruisers Bicycles/Sun Bicycles",
          "2017/10/Cruisers Bicycles/Sun Bicycles",
          "2017/11/Cruisers Bicycles/Sun Bicycles",
          "2017/12/Cruisers Bicycles/Sun Bicycles",
          "2017/1/Electric Bikes/Sun Bicycles",
          "2018/1/Electric Bikes/Sun Bicycles",
          "2017/2/Electric Bikes/Sun Bicycles",
          "2017/3/Electric Bikes/Sun Bicycles",
          "2018/3/Electric Bikes/Sun Bicycles",
          "2018/4/Electric Bikes/Sun Bicycles",
          "2017/6/Electric Bikes/Sun Bicycles",
          "2017/7/Electric Bikes/Sun Bicycles",
          "2017/8/Electric Bikes/Sun Bicycles",
          "2017/9/Electric Bikes/Sun Bicycles",
          "2018/10/Electric Bikes/Sun Bicycles",
          "2017/11/Electric Bikes/Sun Bicycles",
          "2017/2/Mountain Bikes/Sun Bicycles",
          "2018/2/Mountain Bikes/Sun Bicycles",
          "2017/3/Mountain Bikes/Sun Bicycles",
          "2018/3/Mountain Bikes/Sun Bicycles",
          "2017/5/Mountain Bikes/Sun Bicycles",
          "2017/6/Mountain Bikes/Sun Bicycles",
          "2017/7/Mountain Bikes/Sun Bicycles",
          "2017/8/Mountain Bikes/Sun Bicycles",
          "2017/9/Mountain Bikes/Sun Bicycles",
          "2017/10/Mountain Bikes/Sun Bicycles",
          "2016/1/Cyclocross Bicycles/Surly",
          "2017/1/Cyclocross Bicycles/Surly",
          "2016/2/Cyclocross Bicycles/Surly",
          "2017/2/Cyclocross Bicycles/Surly",
          "2018/2/Cyclocross Bicycles/Surly",
          "2016/3/Cyclocross Bicycles/Surly",
          "2017/3/Cyclocross Bicycles/Surly",
          "2018/3/Cyclocross Bicycles/Surly",
          "2016/4/Cyclocross Bicycles/Surly",
          "2017/4/Cyclocross Bicycles/Surly",
          "2018/4/Cyclocross Bicycles/Surly",
          "2016/5/Cyclocross Bicycles/Surly",
          "2017/5/Cyclocross Bicycles/Surly",
          "2016/6/Cyclocross Bicycles/Surly",
          "2017/6/Cyclocross Bicycles/Surly",
          "2016/7/Cyclocross Bicycles/Surly",
          "2017/7/Cyclocross Bicycles/Surly",
          "2016/8/Cyclocross Bicycles/Surly",
          "2017/8/Cyclocross Bicycles/Surly",
          "2016/9/Cyclocross Bicycles/Surly",
          "2017/9/Cyclocross Bicycles/Surly",
          "2016/10/Cyclocross Bicycles/Surly",
          "2017/10/Cyclocross Bicycles/Surly",
          "2016/11/Cyclocross Bicycles/Surly",
          "2017/11/Cyclocross Bicycles/Surly",
          "2016/12/Cyclocross Bicycles/Surly",
          "2017/12/Cyclocross Bicycles/Surly",
          "2016/1/Mountain Bikes/Surly",
          "2017/1/Mountain Bikes/Surly",
          "2018/1/Mountain Bikes/Surly",
          "2016/2/Mountain Bikes/Surly",
          "2017/2/Mountain Bikes/Surly",
          "2018/2/Mountain Bikes/Surly",
          "2016/3/Mountain Bikes/Surly",
          "2017/3/Mountain Bikes/Surly",
          "2018/3/Mountain Bikes/Surly",
          "2016/4/Mountain Bikes/Surly",
          "2017/4/Mountain Bikes/Surly",
          "2018/4/Mountain Bikes/Surly",
          "2016/5/Mountain Bikes/Surly",
          "2017/5/Mountain Bikes/Surly",
          "2016/6/Mountain Bikes/Surly",
          "2017/6/Mountain Bikes/Surly",
          "2016/7/Mountain Bikes/Surly",
          "2017/7/Mountain Bikes/Surly",
          "2016/8/Mountain Bikes/Surly",
          "2017/8/Mountain Bikes/Surly",
          "2018/8/Mountain Bikes/Surly",
          "2016/9/Mountain Bikes/Surly",
          "2017/9/Mountain Bikes/Surly",
          "2016/10/Mountain Bikes/Surly",
          "2017/10/Mountain Bikes/Surly",
          "2016/11/Mountain Bikes/Surly",
          "2017/11/Mountain Bikes/Surly",
          "2018/11/Mountain Bikes/Surly",
          "2016/12/Mountain Bikes/Surly",
          "2017/12/Mountain Bikes/Surly",
          "2017/1/Road Bikes/Surly",
          "2018/1/Road Bikes/Surly",
          "2017/2/Road Bikes/Surly",
          "2018/2/Road Bikes/Surly",
          "2017/3/Road Bikes/Surly",
          "2018/3/Road Bikes/Surly",
          "2017/4/Road Bikes/Surly",
          "2018/4/Road Bikes/Surly",
          "2017/5/Road Bikes/Surly",
          "2017/6/Road Bikes/Surly",
          "2017/7/Road Bikes/Surly",
          "2017/8/Road Bikes/Surly",
          "2017/9/Road Bikes/Surly",
          "2017/10/Road Bikes/Surly",
          "2017/11/Road Bikes/Surly",
          "2017/12/Road Bikes/Surly",
          "2017/1/Children Bicycles/Trek",
          "2018/1/Children Bicycles/Trek",
          "2017/2/Children Bicycles/Trek",
          "2018/2/Children Bicycles/Trek",
          "2017/3/Children Bicycles/Trek",
          "2018/3/Children Bicycles/Trek",
          "2017/4/Children Bicycles/Trek",
          "2018/4/Children Bicycles/Trek",
          "2017/5/Children Bicycles/Trek",
          "2017/6/Children Bicycles/Trek",
          "2018/6/Children Bicycles/Trek",
          "2017/7/Children Bicycles/Trek",
          "2018/7/Children Bicycles/Trek",
          "2017/8/Children Bicycles/Trek",
          "2017/9/Children Bicycles/Trek",
          "2017/10/Children Bicycles/Trek",
          "2017/11/Children Bicycles/Trek",
          "2017/12/Children Bicycles/Trek",
          "2017/1/Cyclocross Bicycles/Trek",
          "2018/1/Cyclocross Bicycles/Trek",
          "2017/2/Cyclocross Bicycles/Trek",
          "2017/3/Cyclocross Bicycles/Trek",
          "2018/3/Cyclocross Bicycles/Trek",
          "2017/4/Cyclocross Bicycles/Trek",
          "2018/4/Cyclocross Bicycles/Trek",
          "2017/5/Cyclocross Bicycles/Trek",
          "2017/6/Cyclocross Bicycles/Trek",
          "2017/8/Cyclocross Bicycles/Trek",
          "2017/9/Cyclocross Bicycles/Trek",
          "2017/10/Cyclocross Bicycles/Trek",
          "2017/11/Cyclocross Bicycles/Trek",
          "2017/12/Cyclocross Bicycles/Trek",
          "2016/1/Electric Bikes/Trek",
          "2017/1/Electric Bikes/Trek",
          "2018/1/Electric Bikes/Trek",
          "2016/2/Electric Bikes/Trek",
          "2017/2/Electric Bikes/Trek",
          "2018/2/Electric Bikes/Trek",
          "2016/3/Electric Bikes/Trek",
          "2017/3/Electric Bikes/Trek",
          "2018/3/Electric Bikes/Trek",
          "2017/4/Electric Bikes/Trek",
          "2018/4/Electric Bikes/Trek",
          "2016/5/Electric Bikes/Trek",
          "2017/5/Electric Bikes/Trek",
          "2016/6/Electric Bikes/Trek",
          "2017/6/Electric Bikes/Trek",
          "2016/7/Electric Bikes/Trek",
          "2017/7/Electric Bikes/Trek",
          "2018/7/Electric Bikes/Trek",
          "2016/8/Electric Bikes/Trek",
          "2017/8/Electric Bikes/Trek",
          "2016/9/Electric Bikes/Trek",
          "2017/9/Electric Bikes/Trek",
          "2016/10/Electric Bikes/Trek",
          "2017/10/Electric Bikes/Trek",
          "2016/11/Electric Bikes/Trek",
          "2017/11/Electric Bikes/Trek",
          "2016/12/Electric Bikes/Trek",
          "2017/12/Electric Bikes/Trek",
          "2018/12/Electric Bikes/Trek",
          "2016/1/Mountain Bikes/Trek",
          "2017/1/Mountain Bikes/Trek",
          "2018/1/Mountain Bikes/Trek",
          "2016/2/Mountain Bikes/Trek",
          "2017/2/Mountain Bikes/Trek",
          "2018/2/Mountain Bikes/Trek",
          "2016/3/Mountain Bikes/Trek",
          "2017/3/Mountain Bikes/Trek",
          "2018/3/Mountain Bikes/Trek",
          "2016/4/Mountain Bikes/Trek",
          "2017/4/Mountain Bikes/Trek",
          "2018/4/Mountain Bikes/Trek",
          "2016/5/Mountain Bikes/Trek",
          "2017/5/Mountain Bikes/Trek",
          "2016/6/Mountain Bikes/Trek",
          "2017/6/Mountain Bikes/Trek",
          "2016/7/Mountain Bikes/Trek",
          "2017/7/Mountain Bikes/Trek",
          "2018/7/Mountain Bikes/Trek",
          "2016/8/Mountain Bikes/Trek",
          "2017/8/Mountain Bikes/Trek",
          "2016/9/Mountain Bikes/Trek",
          "2017/9/Mountain Bikes/Trek",
          "2016/10/Mountain Bikes/Trek",
          "2017/10/Mountain Bikes/Trek",
          "2016/11/Mountain Bikes/Trek",
          "2017/11/Mountain Bikes/Trek",
          "2016/12/Mountain Bikes/Trek",
          "2017/12/Mountain Bikes/Trek",
          "2017/1/Road Bikes/Trek",
          "2018/1/Road Bikes/Trek",
          "2017/2/Road Bikes/Trek",
          "2018/2/Road Bikes/Trek",
          "2017/3/Road Bikes/Trek",
          "2018/3/Road Bikes/Trek",
          "2017/4/Road Bikes/Trek",
          "2018/4/Road Bikes/Trek",
          "2017/5/Road Bikes/Trek",
          "2017/6/Road Bikes/Trek",
          "2017/7/Road Bikes/Trek",
          "2017/8/Road Bikes/Trek",
          "2018/8/Road Bikes/Trek",
          "2017/9/Road Bikes/Trek",
          "2018/9/Road Bikes/Trek",
          "2017/10/Road Bikes/Trek",
          "2017/11/Road Bikes/Trek",
          "2018/11/Road Bikes/Trek",
          "2017/12/Road Bikes/Trek",
          "2018/12/Road Bikes/Trek",
          "2016/1/Children Bicycles",
          "2017/1/Children Bicycles",
          "2018/1/Children Bicycles",
          "2016/2/Children Bicycles",
          "2017/2/Children Bicycles",
          "2018/2/Children Bicycles",
          "2016/3/Children Bicycles",
          "2017/3/Children Bicycles",
          "2018/3/Children Bicycles",
          "2016/4/Children Bicycles",
          "2017/4/Children Bicycles",
          "2018/4/Children Bicycles",
          "2016/5/Children Bicycles",
          "2017/5/Children Bicycles",
          "2016/6/Children Bicycles",
          "2017/6/Children Bicycles",
          "2018/6/Children Bicycles",
          "2016/7/Children Bicycles",
          "2017/7/Children Bicycles",
          "2018/7/Children Bicycles",
          "2016/8/Children Bicycles",
          "2017/8/Children Bicycles",
          "2018/8/Children Bicycles",
          "2016/9/Children Bicycles",
          "2017/9/Children Bicycles",
          "2016/10/Children Bicycles",
          "2017/10/Children Bicycles",
          "2018/10/Children Bicycles",
          "2016/11/Children Bicycles",
          "2017/11/Children Bicycles",
          "2018/11/Children Bicycles",
          "2016/12/Children Bicycles",
          "2017/12/Children Bicycles",
          "2016/1/Comfort Bicycles",
          "2017/1/Comfort Bicycles",
          "2018/1/Comfort Bicycles",
          "2016/2/Comfort Bicycles",
          "2017/2/Comfort Bicycles",
          "2018/2/Comfort Bicycles",
          "2016/3/Comfort Bicycles",
          "2017/3/Comfort Bicycles",
          "2018/3/Comfort Bicycles",
          "2016/4/Comfort Bicycles",
          "2017/4/Comfort Bicycles",
          "2018/4/Comfort Bicycles",
          "2016/5/Comfort Bicycles",
          "2017/5/Comfort Bicycles",
          "2016/6/Comfort Bicycles",
          "2017/6/Comfort Bicycles",
          "2016/7/Comfort Bicycles",
          "2017/7/Comfort Bicycles",
          "2018/7/Comfort Bicycles",
          "2016/8/Comfort Bicycles",
          "2017/8/Comfort Bicycles",
          "2018/8/Comfort Bicycles",
          "2016/9/Comfort Bicycles",
          "2017/9/Comfort Bicycles",
          "2016/10/Comfort Bicycles",
          "2017/10/Comfort Bicycles",
          "2016/11/Comfort Bicycles",
          "2017/11/Comfort Bicycles",
          "2016/12/Comfort Bicycles",
          "2017/12/Comfort Bicycles",
          "2016/1/Cruisers Bicycles",
          "2017/1/Cruisers Bicycles",
          "2018/1/Cruisers Bicycles",
          "2016/2/Cruisers Bicycles",
          "2017/2/Cruisers Bicycles",
          "2018/2/Cruisers Bicycles",
          "2016/3/Cruisers Bicycles",
          "2017/3/Cruisers Bicycles",
          "2018/3/Cruisers Bicycles",
          "2016/4/Cruisers Bicycles",
          "2017/4/Cruisers Bicycles",
          "2018/4/Cruisers Bicycles",
          "2016/5/Cruisers Bicycles",
          "2017/5/Cruisers Bicycles",
          "2016/6/Cruisers Bicycles",
          "2017/6/Cruisers Bicycles",
          "2016/7/Cruisers Bicycles",
          "2017/7/Cruisers Bicycles",
          "2018/7/Cruisers Bicycles",
          "2016/8/Cruisers Bicycles",
          "2017/8/Cruisers Bicycles",
          "2018/8/Cruisers Bicycles",
          "2016/9/Cruisers Bicycles",
          "2017/9/Cruisers Bicycles",
          "2018/9/Cruisers Bicycles",
          "2016/10/Cruisers Bicycles",
          "2017/10/Cruisers Bicycles",
          "2018/10/Cruisers Bicycles",
          "2016/11/Cruisers Bicycles",
          "2017/11/Cruisers Bicycles",
          "2018/11/Cruisers Bicycles",
          "2016/12/Cruisers Bicycles",
          "2017/12/Cruisers Bicycles",
          "2018/12/Cruisers Bicycles",
          "2016/1/Cyclocross Bicycles",
          "2017/1/Cyclocross Bicycles",
          "2018/1/Cyclocross Bicycles",
          "2016/2/Cyclocross Bicycles",
          "2017/2/Cyclocross Bicycles",
          "2018/2/Cyclocross Bicycles",
          "2016/3/Cyclocross Bicycles",
          "2017/3/Cyclocross Bicycles",
          "2018/3/Cyclocross Bicycles",
          "2016/4/Cyclocross Bicycles",
          "2017/4/Cyclocross Bicycles",
          "2018/4/Cyclocross Bicycles",
          "2016/5/Cyclocross Bicycles",
          "2017/5/Cyclocross Bicycles",
          "2016/6/Cyclocross Bicycles",
          "2017/6/Cyclocross Bicycles",
          "2016/7/Cyclocross Bicycles",
          "2017/7/Cyclocross Bicycles",
          "2016/8/Cyclocross Bicycles",
          "2017/8/Cyclocross Bicycles",
          "2016/9/Cyclocross Bicycles",
          "2017/9/Cyclocross Bicycles",
          "2016/10/Cyclocross Bicycles",
          "2017/10/Cyclocross Bicycles",
          "2016/11/Cyclocross Bicycles",
          "2017/11/Cyclocross Bicycles",
          "2016/12/Cyclocross Bicycles",
          "2017/12/Cyclocross Bicycles",
          "2016/1/Electric Bikes",
          "2017/1/Electric Bikes",
          "2018/1/Electric Bikes",
          "2016/2/Electric Bikes",
          "2017/2/Electric Bikes",
          "2018/2/Electric Bikes",
          "2016/3/Electric Bikes",
          "2017/3/Electric Bikes",
          "2018/3/Electric Bikes",
          "2017/4/Electric Bikes",
          "2018/4/Electric Bikes",
          "2016/5/Electric Bikes",
          "2017/5/Electric Bikes",
          "2016/6/Electric Bikes",
          "2017/6/Electric Bikes",
          "2016/7/Electric Bikes",
          "2017/7/Electric Bikes",
          "2018/7/Electric Bikes",
          "2016/8/Electric Bikes",
          "2017/8/Electric Bikes",
          "2016/9/Electric Bikes",
          "2017/9/Electric Bikes",
          "2018/9/Electric Bikes",
          "2016/10/Electric Bikes",
          "2017/10/Electric Bikes",
          "2018/10/Electric Bikes",
          "2016/11/Electric Bikes",
          "2017/11/Electric Bikes",
          "2016/12/Electric Bikes",
          "2017/12/Electric Bikes",
          "2018/12/Electric Bikes",
          "2016/1/Mountain Bikes",
          "2017/1/Mountain Bikes",
          "2018/1/Mountain Bikes",
          "2016/2/Mountain Bikes",
          "2017/2/Mountain Bikes",
          "2018/2/Mountain Bikes",
          "2016/3/Mountain Bikes",
          "2017/3/Mountain Bikes",
          "2018/3/Mountain Bikes",
          "2016/4/Mountain Bikes",
          "2017/4/Mountain Bikes",
          "2018/4/Mountain Bikes",
          "2016/5/Mountain Bikes",
          "2017/5/Mountain Bikes",
          "2016/6/Mountain Bikes",
          "2017/6/Mountain Bikes",
          "2016/7/Mountain Bikes",
          "2017/7/Mountain Bikes",
          "2018/7/Mountain Bikes",
          "2016/8/Mountain Bikes",
          "2017/8/Mountain Bikes",
          "2018/8/Mountain Bikes",
          "2016/9/Mountain Bikes",
          "2017/9/Mountain Bikes",
          "2016/10/Mountain Bikes",
          "2017/10/Mountain Bikes",
          "2016/11/Mountain Bikes",
          "2017/11/Mountain Bikes",
          "2018/11/Mountain Bikes",
          "2016/12/Mountain Bikes",
          "2017/12/Mountain Bikes",
          "2017/1/Road Bikes",
          "2018/1/Road Bikes",
          "2017/2/Road Bikes",
          "2018/2/Road Bikes",
          "2017/3/Road Bikes",
          "2018/3/Road Bikes",
          "2017/4/Road Bikes",
          "2018/4/Road Bikes",
          "2017/5/Road Bikes",
          "2017/6/Road Bikes",
          "2017/7/Road Bikes",
          "2017/8/Road Bikes",
          "2018/8/Road Bikes",
          "2017/9/Road Bikes",
          "2018/9/Road Bikes",
          "2017/10/Road Bikes",
          "2017/11/Road Bikes",
          "2018/11/Road Bikes",
          "2017/12/Road Bikes",
          "2018/12/Road Bikes",
          "2016/1",
          "2017/1",
          "2018/1",
          "2016/2",
          "2017/2",
          "2018/2",
          "2016/3",
          "2017/3",
          "2018/3",
          "2016/4",
          "2017/4",
          "2018/4",
          "2016/5",
          "2017/5",
          "2016/6",
          "2017/6",
          "2018/6",
          "2016/7",
          "2017/7",
          "2018/7",
          "2016/8",
          "2017/8",
          "2018/8",
          "2016/9",
          "2017/9",
          "2018/9",
          "2016/10",
          "2017/10",
          "2018/10",
          "2016/11",
          "2017/11",
          "2018/11",
          "2016/12",
          "2017/12",
          "2018/12",
          "2016",
          "2017",
          "2018"
         ],
         "labels": [
          "Electra",
          "Electra",
          "Electra",
          "Electra",
          "Electra",
          "Electra",
          "Electra",
          "Electra",
          "Electra",
          "Electra",
          "Electra",
          "Electra",
          "Electra",
          "Electra",
          "Electra",
          "Electra",
          "Electra",
          "Electra",
          "Electra",
          "Electra",
          "Electra",
          "Electra",
          "Electra",
          "Electra",
          "Electra",
          "Electra",
          "Electra",
          "Electra",
          "Electra",
          "Electra",
          "Electra",
          "Electra",
          "Electra",
          "Electra",
          "Electra",
          "Electra",
          "Electra",
          "Electra",
          "Electra",
          "Electra",
          "Electra",
          "Electra",
          "Electra",
          "Electra",
          "Electra",
          "Electra",
          "Electra",
          "Electra",
          "Electra",
          "Electra",
          "Electra",
          "Electra",
          "Electra",
          "Electra",
          "Electra",
          "Electra",
          "Electra",
          "Electra",
          "Electra",
          "Electra",
          "Electra",
          "Electra",
          "Electra",
          "Electra",
          "Electra",
          "Electra",
          "Electra",
          "Electra",
          "Electra",
          "Electra",
          "Electra",
          "Electra",
          "Electra",
          "Electra",
          "Electra",
          "Electra",
          "Electra",
          "Electra",
          "Electra",
          "Electra",
          "Electra",
          "Electra",
          "Electra",
          "Electra",
          "Electra",
          "Electra",
          "Electra",
          "Electra",
          "Electra",
          "Electra",
          "Electra",
          "Electra",
          "Electra",
          "Electra",
          "Electra",
          "Electra",
          "Electra",
          "Electra",
          "Haro",
          "Haro",
          "Haro",
          "Haro",
          "Haro",
          "Haro",
          "Haro",
          "Haro",
          "Haro",
          "Haro",
          "Haro",
          "Haro",
          "Haro",
          "Haro",
          "Haro",
          "Haro",
          "Haro",
          "Haro",
          "Haro",
          "Haro",
          "Haro",
          "Haro",
          "Haro",
          "Haro",
          "Haro",
          "Haro",
          "Haro",
          "Haro",
          "Haro",
          "Haro",
          "Haro",
          "Heller",
          "Heller",
          "Heller",
          "Heller",
          "Heller",
          "Heller",
          "Heller",
          "Heller",
          "Heller",
          "Heller",
          "Heller",
          "Heller",
          "Heller",
          "Heller",
          "Heller",
          "Heller",
          "Heller",
          "Heller",
          "Heller",
          "Heller",
          "Heller",
          "Heller",
          "Heller",
          "Heller",
          "Heller",
          "Heller",
          "Pure Cycles",
          "Pure Cycles",
          "Pure Cycles",
          "Pure Cycles",
          "Pure Cycles",
          "Pure Cycles",
          "Pure Cycles",
          "Pure Cycles",
          "Pure Cycles",
          "Pure Cycles",
          "Pure Cycles",
          "Pure Cycles",
          "Pure Cycles",
          "Pure Cycles",
          "Pure Cycles",
          "Pure Cycles",
          "Pure Cycles",
          "Pure Cycles",
          "Pure Cycles",
          "Pure Cycles",
          "Pure Cycles",
          "Pure Cycles",
          "Pure Cycles",
          "Pure Cycles",
          "Pure Cycles",
          "Pure Cycles",
          "Pure Cycles",
          "Ritchey",
          "Ritchey",
          "Ritchey",
          "Ritchey",
          "Ritchey",
          "Ritchey",
          "Ritchey",
          "Ritchey",
          "Ritchey",
          "Ritchey",
          "Ritchey",
          "Ritchey",
          "Ritchey",
          "Ritchey",
          "Ritchey",
          "Ritchey",
          "Ritchey",
          "Ritchey",
          "Ritchey",
          "Ritchey",
          "Ritchey",
          "Ritchey",
          "Ritchey",
          "Strider",
          "Strider",
          "Strider",
          "Strider",
          "Sun Bicycles",
          "Sun Bicycles",
          "Sun Bicycles",
          "Sun Bicycles",
          "Sun Bicycles",
          "Sun Bicycles",
          "Sun Bicycles",
          "Sun Bicycles",
          "Sun Bicycles",
          "Sun Bicycles",
          "Sun Bicycles",
          "Sun Bicycles",
          "Sun Bicycles",
          "Sun Bicycles",
          "Sun Bicycles",
          "Sun Bicycles",
          "Sun Bicycles",
          "Sun Bicycles",
          "Sun Bicycles",
          "Sun Bicycles",
          "Sun Bicycles",
          "Sun Bicycles",
          "Sun Bicycles",
          "Sun Bicycles",
          "Sun Bicycles",
          "Sun Bicycles",
          "Sun Bicycles",
          "Sun Bicycles",
          "Sun Bicycles",
          "Sun Bicycles",
          "Sun Bicycles",
          "Sun Bicycles",
          "Sun Bicycles",
          "Sun Bicycles",
          "Sun Bicycles",
          "Sun Bicycles",
          "Sun Bicycles",
          "Sun Bicycles",
          "Sun Bicycles",
          "Sun Bicycles",
          "Sun Bicycles",
          "Sun Bicycles",
          "Sun Bicycles",
          "Sun Bicycles",
          "Sun Bicycles",
          "Sun Bicycles",
          "Sun Bicycles",
          "Sun Bicycles",
          "Sun Bicycles",
          "Sun Bicycles",
          "Sun Bicycles",
          "Sun Bicycles",
          "Sun Bicycles",
          "Sun Bicycles",
          "Sun Bicycles",
          "Sun Bicycles",
          "Sun Bicycles",
          "Sun Bicycles",
          "Sun Bicycles",
          "Sun Bicycles",
          "Sun Bicycles",
          "Sun Bicycles",
          "Sun Bicycles",
          "Sun Bicycles",
          "Sun Bicycles",
          "Surly",
          "Surly",
          "Surly",
          "Surly",
          "Surly",
          "Surly",
          "Surly",
          "Surly",
          "Surly",
          "Surly",
          "Surly",
          "Surly",
          "Surly",
          "Surly",
          "Surly",
          "Surly",
          "Surly",
          "Surly",
          "Surly",
          "Surly",
          "Surly",
          "Surly",
          "Surly",
          "Surly",
          "Surly",
          "Surly",
          "Surly",
          "Surly",
          "Surly",
          "Surly",
          "Surly",
          "Surly",
          "Surly",
          "Surly",
          "Surly",
          "Surly",
          "Surly",
          "Surly",
          "Surly",
          "Surly",
          "Surly",
          "Surly",
          "Surly",
          "Surly",
          "Surly",
          "Surly",
          "Surly",
          "Surly",
          "Surly",
          "Surly",
          "Surly",
          "Surly",
          "Surly",
          "Surly",
          "Surly",
          "Surly",
          "Surly",
          "Surly",
          "Surly",
          "Surly",
          "Surly",
          "Surly",
          "Surly",
          "Surly",
          "Surly",
          "Surly",
          "Surly",
          "Surly",
          "Surly",
          "Surly",
          "Surly",
          "Surly",
          "Surly",
          "Trek",
          "Trek",
          "Trek",
          "Trek",
          "Trek",
          "Trek",
          "Trek",
          "Trek",
          "Trek",
          "Trek",
          "Trek",
          "Trek",
          "Trek",
          "Trek",
          "Trek",
          "Trek",
          "Trek",
          "Trek",
          "Trek",
          "Trek",
          "Trek",
          "Trek",
          "Trek",
          "Trek",
          "Trek",
          "Trek",
          "Trek",
          "Trek",
          "Trek",
          "Trek",
          "Trek",
          "Trek",
          "Trek",
          "Trek",
          "Trek",
          "Trek",
          "Trek",
          "Trek",
          "Trek",
          "Trek",
          "Trek",
          "Trek",
          "Trek",
          "Trek",
          "Trek",
          "Trek",
          "Trek",
          "Trek",
          "Trek",
          "Trek",
          "Trek",
          "Trek",
          "Trek",
          "Trek",
          "Trek",
          "Trek",
          "Trek",
          "Trek",
          "Trek",
          "Trek",
          "Trek",
          "Trek",
          "Trek",
          "Trek",
          "Trek",
          "Trek",
          "Trek",
          "Trek",
          "Trek",
          "Trek",
          "Trek",
          "Trek",
          "Trek",
          "Trek",
          "Trek",
          "Trek",
          "Trek",
          "Trek",
          "Trek",
          "Trek",
          "Trek",
          "Trek",
          "Trek",
          "Trek",
          "Trek",
          "Trek",
          "Trek",
          "Trek",
          "Trek",
          "Trek",
          "Trek",
          "Trek",
          "Trek",
          "Trek",
          "Trek",
          "Trek",
          "Trek",
          "Trek",
          "Trek",
          "Trek",
          "Trek",
          "Trek",
          "Trek",
          "Trek",
          "Trek",
          "Trek",
          "Trek",
          "Trek",
          "Trek",
          "Trek",
          "Children Bicycles",
          "Children Bicycles",
          "Children Bicycles",
          "Children Bicycles",
          "Children Bicycles",
          "Children Bicycles",
          "Children Bicycles",
          "Children Bicycles",
          "Children Bicycles",
          "Children Bicycles",
          "Children Bicycles",
          "Children Bicycles",
          "Children Bicycles",
          "Children Bicycles",
          "Children Bicycles",
          "Children Bicycles",
          "Children Bicycles",
          "Children Bicycles",
          "Children Bicycles",
          "Children Bicycles",
          "Children Bicycles",
          "Children Bicycles",
          "Children Bicycles",
          "Children Bicycles",
          "Children Bicycles",
          "Children Bicycles",
          "Children Bicycles",
          "Children Bicycles",
          "Children Bicycles",
          "Children Bicycles",
          "Children Bicycles",
          "Children Bicycles",
          "Children Bicycles",
          "Comfort Bicycles",
          "Comfort Bicycles",
          "Comfort Bicycles",
          "Comfort Bicycles",
          "Comfort Bicycles",
          "Comfort Bicycles",
          "Comfort Bicycles",
          "Comfort Bicycles",
          "Comfort Bicycles",
          "Comfort Bicycles",
          "Comfort Bicycles",
          "Comfort Bicycles",
          "Comfort Bicycles",
          "Comfort Bicycles",
          "Comfort Bicycles",
          "Comfort Bicycles",
          "Comfort Bicycles",
          "Comfort Bicycles",
          "Comfort Bicycles",
          "Comfort Bicycles",
          "Comfort Bicycles",
          "Comfort Bicycles",
          "Comfort Bicycles",
          "Comfort Bicycles",
          "Comfort Bicycles",
          "Comfort Bicycles",
          "Comfort Bicycles",
          "Comfort Bicycles",
          "Comfort Bicycles",
          "Comfort Bicycles",
          "Cruisers Bicycles",
          "Cruisers Bicycles",
          "Cruisers Bicycles",
          "Cruisers Bicycles",
          "Cruisers Bicycles",
          "Cruisers Bicycles",
          "Cruisers Bicycles",
          "Cruisers Bicycles",
          "Cruisers Bicycles",
          "Cruisers Bicycles",
          "Cruisers Bicycles",
          "Cruisers Bicycles",
          "Cruisers Bicycles",
          "Cruisers Bicycles",
          "Cruisers Bicycles",
          "Cruisers Bicycles",
          "Cruisers Bicycles",
          "Cruisers Bicycles",
          "Cruisers Bicycles",
          "Cruisers Bicycles",
          "Cruisers Bicycles",
          "Cruisers Bicycles",
          "Cruisers Bicycles",
          "Cruisers Bicycles",
          "Cruisers Bicycles",
          "Cruisers Bicycles",
          "Cruisers Bicycles",
          "Cruisers Bicycles",
          "Cruisers Bicycles",
          "Cruisers Bicycles",
          "Cruisers Bicycles",
          "Cruisers Bicycles",
          "Cruisers Bicycles",
          "Cruisers Bicycles",
          "Cyclocross Bicycles",
          "Cyclocross Bicycles",
          "Cyclocross Bicycles",
          "Cyclocross Bicycles",
          "Cyclocross Bicycles",
          "Cyclocross Bicycles",
          "Cyclocross Bicycles",
          "Cyclocross Bicycles",
          "Cyclocross Bicycles",
          "Cyclocross Bicycles",
          "Cyclocross Bicycles",
          "Cyclocross Bicycles",
          "Cyclocross Bicycles",
          "Cyclocross Bicycles",
          "Cyclocross Bicycles",
          "Cyclocross Bicycles",
          "Cyclocross Bicycles",
          "Cyclocross Bicycles",
          "Cyclocross Bicycles",
          "Cyclocross Bicycles",
          "Cyclocross Bicycles",
          "Cyclocross Bicycles",
          "Cyclocross Bicycles",
          "Cyclocross Bicycles",
          "Cyclocross Bicycles",
          "Cyclocross Bicycles",
          "Cyclocross Bicycles",
          "Cyclocross Bicycles",
          "Electric Bikes",
          "Electric Bikes",
          "Electric Bikes",
          "Electric Bikes",
          "Electric Bikes",
          "Electric Bikes",
          "Electric Bikes",
          "Electric Bikes",
          "Electric Bikes",
          "Electric Bikes",
          "Electric Bikes",
          "Electric Bikes",
          "Electric Bikes",
          "Electric Bikes",
          "Electric Bikes",
          "Electric Bikes",
          "Electric Bikes",
          "Electric Bikes",
          "Electric Bikes",
          "Electric Bikes",
          "Electric Bikes",
          "Electric Bikes",
          "Electric Bikes",
          "Electric Bikes",
          "Electric Bikes",
          "Electric Bikes",
          "Electric Bikes",
          "Electric Bikes",
          "Electric Bikes",
          "Electric Bikes",
          "Electric Bikes",
          "Mountain Bikes",
          "Mountain Bikes",
          "Mountain Bikes",
          "Mountain Bikes",
          "Mountain Bikes",
          "Mountain Bikes",
          "Mountain Bikes",
          "Mountain Bikes",
          "Mountain Bikes",
          "Mountain Bikes",
          "Mountain Bikes",
          "Mountain Bikes",
          "Mountain Bikes",
          "Mountain Bikes",
          "Mountain Bikes",
          "Mountain Bikes",
          "Mountain Bikes",
          "Mountain Bikes",
          "Mountain Bikes",
          "Mountain Bikes",
          "Mountain Bikes",
          "Mountain Bikes",
          "Mountain Bikes",
          "Mountain Bikes",
          "Mountain Bikes",
          "Mountain Bikes",
          "Mountain Bikes",
          "Mountain Bikes",
          "Mountain Bikes",
          "Mountain Bikes",
          "Mountain Bikes",
          "Road Bikes",
          "Road Bikes",
          "Road Bikes",
          "Road Bikes",
          "Road Bikes",
          "Road Bikes",
          "Road Bikes",
          "Road Bikes",
          "Road Bikes",
          "Road Bikes",
          "Road Bikes",
          "Road Bikes",
          "Road Bikes",
          "Road Bikes",
          "Road Bikes",
          "Road Bikes",
          "Road Bikes",
          "Road Bikes",
          "Road Bikes",
          "Road Bikes",
          "1",
          "1",
          "1",
          "2",
          "2",
          "2",
          "3",
          "3",
          "3",
          "4",
          "4",
          "4",
          "5",
          "5",
          "6",
          "6",
          "6",
          "7",
          "7",
          "7",
          "8",
          "8",
          "8",
          "9",
          "9",
          "9",
          "10",
          "10",
          "10",
          "11",
          "11",
          "11",
          "12",
          "12",
          "12",
          "2016",
          "2017",
          "2018"
         ],
         "marker": {
          "line": {
           "color": "black",
           "width": 0.5
          }
         },
         "name": "",
         "parents": [
          "2016/1/Children Bicycles",
          "2017/1/Children Bicycles",
          "2018/1/Children Bicycles",
          "2016/2/Children Bicycles",
          "2017/2/Children Bicycles",
          "2018/2/Children Bicycles",
          "2016/3/Children Bicycles",
          "2017/3/Children Bicycles",
          "2018/3/Children Bicycles",
          "2016/4/Children Bicycles",
          "2017/4/Children Bicycles",
          "2018/4/Children Bicycles",
          "2016/5/Children Bicycles",
          "2017/5/Children Bicycles",
          "2016/6/Children Bicycles",
          "2017/6/Children Bicycles",
          "2016/7/Children Bicycles",
          "2017/7/Children Bicycles",
          "2016/8/Children Bicycles",
          "2017/8/Children Bicycles",
          "2018/8/Children Bicycles",
          "2016/9/Children Bicycles",
          "2017/9/Children Bicycles",
          "2016/10/Children Bicycles",
          "2017/10/Children Bicycles",
          "2018/10/Children Bicycles",
          "2016/11/Children Bicycles",
          "2017/11/Children Bicycles",
          "2018/11/Children Bicycles",
          "2016/12/Children Bicycles",
          "2017/12/Children Bicycles",
          "2016/1/Comfort Bicycles",
          "2017/1/Comfort Bicycles",
          "2018/1/Comfort Bicycles",
          "2016/2/Comfort Bicycles",
          "2017/2/Comfort Bicycles",
          "2018/2/Comfort Bicycles",
          "2016/3/Comfort Bicycles",
          "2017/3/Comfort Bicycles",
          "2018/3/Comfort Bicycles",
          "2016/4/Comfort Bicycles",
          "2017/4/Comfort Bicycles",
          "2018/4/Comfort Bicycles",
          "2016/5/Comfort Bicycles",
          "2017/5/Comfort Bicycles",
          "2016/6/Comfort Bicycles",
          "2017/6/Comfort Bicycles",
          "2016/7/Comfort Bicycles",
          "2017/7/Comfort Bicycles",
          "2018/7/Comfort Bicycles",
          "2016/8/Comfort Bicycles",
          "2017/8/Comfort Bicycles",
          "2016/9/Comfort Bicycles",
          "2017/9/Comfort Bicycles",
          "2016/10/Comfort Bicycles",
          "2017/10/Comfort Bicycles",
          "2016/11/Comfort Bicycles",
          "2017/11/Comfort Bicycles",
          "2016/12/Comfort Bicycles",
          "2017/12/Comfort Bicycles",
          "2016/1/Cruisers Bicycles",
          "2017/1/Cruisers Bicycles",
          "2018/1/Cruisers Bicycles",
          "2016/2/Cruisers Bicycles",
          "2017/2/Cruisers Bicycles",
          "2018/2/Cruisers Bicycles",
          "2016/3/Cruisers Bicycles",
          "2017/3/Cruisers Bicycles",
          "2018/3/Cruisers Bicycles",
          "2016/4/Cruisers Bicycles",
          "2017/4/Cruisers Bicycles",
          "2018/4/Cruisers Bicycles",
          "2016/5/Cruisers Bicycles",
          "2017/5/Cruisers Bicycles",
          "2016/6/Cruisers Bicycles",
          "2017/6/Cruisers Bicycles",
          "2016/7/Cruisers Bicycles",
          "2017/7/Cruisers Bicycles",
          "2018/7/Cruisers Bicycles",
          "2016/8/Cruisers Bicycles",
          "2017/8/Cruisers Bicycles",
          "2018/8/Cruisers Bicycles",
          "2016/9/Cruisers Bicycles",
          "2017/9/Cruisers Bicycles",
          "2018/9/Cruisers Bicycles",
          "2016/10/Cruisers Bicycles",
          "2017/10/Cruisers Bicycles",
          "2018/10/Cruisers Bicycles",
          "2016/11/Cruisers Bicycles",
          "2017/11/Cruisers Bicycles",
          "2018/11/Cruisers Bicycles",
          "2016/12/Cruisers Bicycles",
          "2017/12/Cruisers Bicycles",
          "2018/12/Cruisers Bicycles",
          "2018/1/Electric Bikes",
          "2018/3/Electric Bikes",
          "2018/4/Electric Bikes",
          "2018/9/Electric Bikes",
          "2017/1/Children Bicycles",
          "2018/1/Children Bicycles",
          "2017/2/Children Bicycles",
          "2018/2/Children Bicycles",
          "2017/3/Children Bicycles",
          "2018/3/Children Bicycles",
          "2017/4/Children Bicycles",
          "2018/4/Children Bicycles",
          "2017/5/Children Bicycles",
          "2017/6/Children Bicycles",
          "2017/7/Children Bicycles",
          "2017/8/Children Bicycles",
          "2017/9/Children Bicycles",
          "2017/10/Children Bicycles",
          "2017/11/Children Bicycles",
          "2017/12/Children Bicycles",
          "2017/1/Mountain Bikes",
          "2017/2/Mountain Bikes",
          "2018/2/Mountain Bikes",
          "2017/3/Mountain Bikes",
          "2018/3/Mountain Bikes",
          "2017/4/Mountain Bikes",
          "2018/4/Mountain Bikes",
          "2017/5/Mountain Bikes",
          "2017/6/Mountain Bikes",
          "2017/7/Mountain Bikes",
          "2017/8/Mountain Bikes",
          "2017/9/Mountain Bikes",
          "2017/10/Mountain Bikes",
          "2017/11/Mountain Bikes",
          "2017/12/Mountain Bikes",
          "2016/1/Mountain Bikes",
          "2017/1/Mountain Bikes",
          "2018/1/Mountain Bikes",
          "2016/2/Mountain Bikes",
          "2017/2/Mountain Bikes",
          "2018/2/Mountain Bikes",
          "2016/3/Mountain Bikes",
          "2017/3/Mountain Bikes",
          "2018/3/Mountain Bikes",
          "2016/4/Mountain Bikes",
          "2017/4/Mountain Bikes",
          "2018/4/Mountain Bikes",
          "2016/5/Mountain Bikes",
          "2017/5/Mountain Bikes",
          "2016/6/Mountain Bikes",
          "2017/6/Mountain Bikes",
          "2016/7/Mountain Bikes",
          "2017/7/Mountain Bikes",
          "2016/8/Mountain Bikes",
          "2017/8/Mountain Bikes",
          "2016/9/Mountain Bikes",
          "2017/9/Mountain Bikes",
          "2016/10/Mountain Bikes",
          "2016/11/Mountain Bikes",
          "2016/12/Mountain Bikes",
          "2017/12/Mountain Bikes",
          "2016/1/Cruisers Bicycles",
          "2017/1/Cruisers Bicycles",
          "2018/1/Cruisers Bicycles",
          "2016/2/Cruisers Bicycles",
          "2017/2/Cruisers Bicycles",
          "2016/3/Cruisers Bicycles",
          "2017/3/Cruisers Bicycles",
          "2018/3/Cruisers Bicycles",
          "2016/4/Cruisers Bicycles",
          "2017/4/Cruisers Bicycles",
          "2018/4/Cruisers Bicycles",
          "2016/5/Cruisers Bicycles",
          "2017/5/Cruisers Bicycles",
          "2016/6/Cruisers Bicycles",
          "2017/6/Cruisers Bicycles",
          "2016/7/Cruisers Bicycles",
          "2017/7/Cruisers Bicycles",
          "2016/8/Cruisers Bicycles",
          "2017/8/Cruisers Bicycles",
          "2016/9/Cruisers Bicycles",
          "2017/9/Cruisers Bicycles",
          "2016/10/Cruisers Bicycles",
          "2017/10/Cruisers Bicycles",
          "2016/11/Cruisers Bicycles",
          "2017/11/Cruisers Bicycles",
          "2016/12/Cruisers Bicycles",
          "2017/12/Cruisers Bicycles",
          "2016/1/Mountain Bikes",
          "2017/1/Mountain Bikes",
          "2018/1/Mountain Bikes",
          "2016/2/Mountain Bikes",
          "2018/2/Mountain Bikes",
          "2016/3/Mountain Bikes",
          "2017/3/Mountain Bikes",
          "2016/4/Mountain Bikes",
          "2017/4/Mountain Bikes",
          "2018/4/Mountain Bikes",
          "2016/5/Mountain Bikes",
          "2017/5/Mountain Bikes",
          "2016/6/Mountain Bikes",
          "2016/7/Mountain Bikes",
          "2017/7/Mountain Bikes",
          "2016/8/Mountain Bikes",
          "2017/8/Mountain Bikes",
          "2016/9/Mountain Bikes",
          "2017/9/Mountain Bikes",
          "2016/10/Mountain Bikes",
          "2016/11/Mountain Bikes",
          "2016/12/Mountain Bikes",
          "2017/12/Mountain Bikes",
          "2018/1/Children Bicycles",
          "2018/2/Children Bicycles",
          "2018/3/Children Bicycles",
          "2018/4/Children Bicycles",
          "2017/1/Children Bicycles",
          "2018/1/Children Bicycles",
          "2017/2/Children Bicycles",
          "2018/3/Children Bicycles",
          "2017/5/Children Bicycles",
          "2017/7/Children Bicycles",
          "2017/9/Children Bicycles",
          "2017/10/Children Bicycles",
          "2017/11/Children Bicycles",
          "2017/1/Comfort Bicycles",
          "2018/1/Comfort Bicycles",
          "2017/2/Comfort Bicycles",
          "2018/2/Comfort Bicycles",
          "2017/3/Comfort Bicycles",
          "2018/3/Comfort Bicycles",
          "2017/4/Comfort Bicycles",
          "2018/4/Comfort Bicycles",
          "2017/5/Comfort Bicycles",
          "2017/6/Comfort Bicycles",
          "2017/7/Comfort Bicycles",
          "2017/8/Comfort Bicycles",
          "2018/8/Comfort Bicycles",
          "2017/9/Comfort Bicycles",
          "2017/10/Comfort Bicycles",
          "2017/11/Comfort Bicycles",
          "2017/12/Comfort Bicycles",
          "2017/1/Cruisers Bicycles",
          "2018/1/Cruisers Bicycles",
          "2017/2/Cruisers Bicycles",
          "2018/2/Cruisers Bicycles",
          "2017/3/Cruisers Bicycles",
          "2018/3/Cruisers Bicycles",
          "2017/4/Cruisers Bicycles",
          "2018/4/Cruisers Bicycles",
          "2017/5/Cruisers Bicycles",
          "2017/6/Cruisers Bicycles",
          "2017/7/Cruisers Bicycles",
          "2018/7/Cruisers Bicycles",
          "2017/8/Cruisers Bicycles",
          "2017/9/Cruisers Bicycles",
          "2017/10/Cruisers Bicycles",
          "2017/11/Cruisers Bicycles",
          "2017/12/Cruisers Bicycles",
          "2017/1/Electric Bikes",
          "2018/1/Electric Bikes",
          "2017/2/Electric Bikes",
          "2017/3/Electric Bikes",
          "2018/3/Electric Bikes",
          "2018/4/Electric Bikes",
          "2017/6/Electric Bikes",
          "2017/7/Electric Bikes",
          "2017/8/Electric Bikes",
          "2017/9/Electric Bikes",
          "2018/10/Electric Bikes",
          "2017/11/Electric Bikes",
          "2017/2/Mountain Bikes",
          "2018/2/Mountain Bikes",
          "2017/3/Mountain Bikes",
          "2018/3/Mountain Bikes",
          "2017/5/Mountain Bikes",
          "2017/6/Mountain Bikes",
          "2017/7/Mountain Bikes",
          "2017/8/Mountain Bikes",
          "2017/9/Mountain Bikes",
          "2017/10/Mountain Bikes",
          "2016/1/Cyclocross Bicycles",
          "2017/1/Cyclocross Bicycles",
          "2016/2/Cyclocross Bicycles",
          "2017/2/Cyclocross Bicycles",
          "2018/2/Cyclocross Bicycles",
          "2016/3/Cyclocross Bicycles",
          "2017/3/Cyclocross Bicycles",
          "2018/3/Cyclocross Bicycles",
          "2016/4/Cyclocross Bicycles",
          "2017/4/Cyclocross Bicycles",
          "2018/4/Cyclocross Bicycles",
          "2016/5/Cyclocross Bicycles",
          "2017/5/Cyclocross Bicycles",
          "2016/6/Cyclocross Bicycles",
          "2017/6/Cyclocross Bicycles",
          "2016/7/Cyclocross Bicycles",
          "2017/7/Cyclocross Bicycles",
          "2016/8/Cyclocross Bicycles",
          "2017/8/Cyclocross Bicycles",
          "2016/9/Cyclocross Bicycles",
          "2017/9/Cyclocross Bicycles",
          "2016/10/Cyclocross Bicycles",
          "2017/10/Cyclocross Bicycles",
          "2016/11/Cyclocross Bicycles",
          "2017/11/Cyclocross Bicycles",
          "2016/12/Cyclocross Bicycles",
          "2017/12/Cyclocross Bicycles",
          "2016/1/Mountain Bikes",
          "2017/1/Mountain Bikes",
          "2018/1/Mountain Bikes",
          "2016/2/Mountain Bikes",
          "2017/2/Mountain Bikes",
          "2018/2/Mountain Bikes",
          "2016/3/Mountain Bikes",
          "2017/3/Mountain Bikes",
          "2018/3/Mountain Bikes",
          "2016/4/Mountain Bikes",
          "2017/4/Mountain Bikes",
          "2018/4/Mountain Bikes",
          "2016/5/Mountain Bikes",
          "2017/5/Mountain Bikes",
          "2016/6/Mountain Bikes",
          "2017/6/Mountain Bikes",
          "2016/7/Mountain Bikes",
          "2017/7/Mountain Bikes",
          "2016/8/Mountain Bikes",
          "2017/8/Mountain Bikes",
          "2018/8/Mountain Bikes",
          "2016/9/Mountain Bikes",
          "2017/9/Mountain Bikes",
          "2016/10/Mountain Bikes",
          "2017/10/Mountain Bikes",
          "2016/11/Mountain Bikes",
          "2017/11/Mountain Bikes",
          "2018/11/Mountain Bikes",
          "2016/12/Mountain Bikes",
          "2017/12/Mountain Bikes",
          "2017/1/Road Bikes",
          "2018/1/Road Bikes",
          "2017/2/Road Bikes",
          "2018/2/Road Bikes",
          "2017/3/Road Bikes",
          "2018/3/Road Bikes",
          "2017/4/Road Bikes",
          "2018/4/Road Bikes",
          "2017/5/Road Bikes",
          "2017/6/Road Bikes",
          "2017/7/Road Bikes",
          "2017/8/Road Bikes",
          "2017/9/Road Bikes",
          "2017/10/Road Bikes",
          "2017/11/Road Bikes",
          "2017/12/Road Bikes",
          "2017/1/Children Bicycles",
          "2018/1/Children Bicycles",
          "2017/2/Children Bicycles",
          "2018/2/Children Bicycles",
          "2017/3/Children Bicycles",
          "2018/3/Children Bicycles",
          "2017/4/Children Bicycles",
          "2018/4/Children Bicycles",
          "2017/5/Children Bicycles",
          "2017/6/Children Bicycles",
          "2018/6/Children Bicycles",
          "2017/7/Children Bicycles",
          "2018/7/Children Bicycles",
          "2017/8/Children Bicycles",
          "2017/9/Children Bicycles",
          "2017/10/Children Bicycles",
          "2017/11/Children Bicycles",
          "2017/12/Children Bicycles",
          "2017/1/Cyclocross Bicycles",
          "2018/1/Cyclocross Bicycles",
          "2017/2/Cyclocross Bicycles",
          "2017/3/Cyclocross Bicycles",
          "2018/3/Cyclocross Bicycles",
          "2017/4/Cyclocross Bicycles",
          "2018/4/Cyclocross Bicycles",
          "2017/5/Cyclocross Bicycles",
          "2017/6/Cyclocross Bicycles",
          "2017/8/Cyclocross Bicycles",
          "2017/9/Cyclocross Bicycles",
          "2017/10/Cyclocross Bicycles",
          "2017/11/Cyclocross Bicycles",
          "2017/12/Cyclocross Bicycles",
          "2016/1/Electric Bikes",
          "2017/1/Electric Bikes",
          "2018/1/Electric Bikes",
          "2016/2/Electric Bikes",
          "2017/2/Electric Bikes",
          "2018/2/Electric Bikes",
          "2016/3/Electric Bikes",
          "2017/3/Electric Bikes",
          "2018/3/Electric Bikes",
          "2017/4/Electric Bikes",
          "2018/4/Electric Bikes",
          "2016/5/Electric Bikes",
          "2017/5/Electric Bikes",
          "2016/6/Electric Bikes",
          "2017/6/Electric Bikes",
          "2016/7/Electric Bikes",
          "2017/7/Electric Bikes",
          "2018/7/Electric Bikes",
          "2016/8/Electric Bikes",
          "2017/8/Electric Bikes",
          "2016/9/Electric Bikes",
          "2017/9/Electric Bikes",
          "2016/10/Electric Bikes",
          "2017/10/Electric Bikes",
          "2016/11/Electric Bikes",
          "2017/11/Electric Bikes",
          "2016/12/Electric Bikes",
          "2017/12/Electric Bikes",
          "2018/12/Electric Bikes",
          "2016/1/Mountain Bikes",
          "2017/1/Mountain Bikes",
          "2018/1/Mountain Bikes",
          "2016/2/Mountain Bikes",
          "2017/2/Mountain Bikes",
          "2018/2/Mountain Bikes",
          "2016/3/Mountain Bikes",
          "2017/3/Mountain Bikes",
          "2018/3/Mountain Bikes",
          "2016/4/Mountain Bikes",
          "2017/4/Mountain Bikes",
          "2018/4/Mountain Bikes",
          "2016/5/Mountain Bikes",
          "2017/5/Mountain Bikes",
          "2016/6/Mountain Bikes",
          "2017/6/Mountain Bikes",
          "2016/7/Mountain Bikes",
          "2017/7/Mountain Bikes",
          "2018/7/Mountain Bikes",
          "2016/8/Mountain Bikes",
          "2017/8/Mountain Bikes",
          "2016/9/Mountain Bikes",
          "2017/9/Mountain Bikes",
          "2016/10/Mountain Bikes",
          "2017/10/Mountain Bikes",
          "2016/11/Mountain Bikes",
          "2017/11/Mountain Bikes",
          "2016/12/Mountain Bikes",
          "2017/12/Mountain Bikes",
          "2017/1/Road Bikes",
          "2018/1/Road Bikes",
          "2017/2/Road Bikes",
          "2018/2/Road Bikes",
          "2017/3/Road Bikes",
          "2018/3/Road Bikes",
          "2017/4/Road Bikes",
          "2018/4/Road Bikes",
          "2017/5/Road Bikes",
          "2017/6/Road Bikes",
          "2017/7/Road Bikes",
          "2017/8/Road Bikes",
          "2018/8/Road Bikes",
          "2017/9/Road Bikes",
          "2018/9/Road Bikes",
          "2017/10/Road Bikes",
          "2017/11/Road Bikes",
          "2018/11/Road Bikes",
          "2017/12/Road Bikes",
          "2018/12/Road Bikes",
          "2016/1",
          "2017/1",
          "2018/1",
          "2016/2",
          "2017/2",
          "2018/2",
          "2016/3",
          "2017/3",
          "2018/3",
          "2016/4",
          "2017/4",
          "2018/4",
          "2016/5",
          "2017/5",
          "2016/6",
          "2017/6",
          "2018/6",
          "2016/7",
          "2017/7",
          "2018/7",
          "2016/8",
          "2017/8",
          "2018/8",
          "2016/9",
          "2017/9",
          "2016/10",
          "2017/10",
          "2018/10",
          "2016/11",
          "2017/11",
          "2018/11",
          "2016/12",
          "2017/12",
          "2016/1",
          "2017/1",
          "2018/1",
          "2016/2",
          "2017/2",
          "2018/2",
          "2016/3",
          "2017/3",
          "2018/3",
          "2016/4",
          "2017/4",
          "2018/4",
          "2016/5",
          "2017/5",
          "2016/6",
          "2017/6",
          "2016/7",
          "2017/7",
          "2018/7",
          "2016/8",
          "2017/8",
          "2018/8",
          "2016/9",
          "2017/9",
          "2016/10",
          "2017/10",
          "2016/11",
          "2017/11",
          "2016/12",
          "2017/12",
          "2016/1",
          "2017/1",
          "2018/1",
          "2016/2",
          "2017/2",
          "2018/2",
          "2016/3",
          "2017/3",
          "2018/3",
          "2016/4",
          "2017/4",
          "2018/4",
          "2016/5",
          "2017/5",
          "2016/6",
          "2017/6",
          "2016/7",
          "2017/7",
          "2018/7",
          "2016/8",
          "2017/8",
          "2018/8",
          "2016/9",
          "2017/9",
          "2018/9",
          "2016/10",
          "2017/10",
          "2018/10",
          "2016/11",
          "2017/11",
          "2018/11",
          "2016/12",
          "2017/12",
          "2018/12",
          "2016/1",
          "2017/1",
          "2018/1",
          "2016/2",
          "2017/2",
          "2018/2",
          "2016/3",
          "2017/3",
          "2018/3",
          "2016/4",
          "2017/4",
          "2018/4",
          "2016/5",
          "2017/5",
          "2016/6",
          "2017/6",
          "2016/7",
          "2017/7",
          "2016/8",
          "2017/8",
          "2016/9",
          "2017/9",
          "2016/10",
          "2017/10",
          "2016/11",
          "2017/11",
          "2016/12",
          "2017/12",
          "2016/1",
          "2017/1",
          "2018/1",
          "2016/2",
          "2017/2",
          "2018/2",
          "2016/3",
          "2017/3",
          "2018/3",
          "2017/4",
          "2018/4",
          "2016/5",
          "2017/5",
          "2016/6",
          "2017/6",
          "2016/7",
          "2017/7",
          "2018/7",
          "2016/8",
          "2017/8",
          "2016/9",
          "2017/9",
          "2018/9",
          "2016/10",
          "2017/10",
          "2018/10",
          "2016/11",
          "2017/11",
          "2016/12",
          "2017/12",
          "2018/12",
          "2016/1",
          "2017/1",
          "2018/1",
          "2016/2",
          "2017/2",
          "2018/2",
          "2016/3",
          "2017/3",
          "2018/3",
          "2016/4",
          "2017/4",
          "2018/4",
          "2016/5",
          "2017/5",
          "2016/6",
          "2017/6",
          "2016/7",
          "2017/7",
          "2018/7",
          "2016/8",
          "2017/8",
          "2018/8",
          "2016/9",
          "2017/9",
          "2016/10",
          "2017/10",
          "2016/11",
          "2017/11",
          "2018/11",
          "2016/12",
          "2017/12",
          "2017/1",
          "2018/1",
          "2017/2",
          "2018/2",
          "2017/3",
          "2018/3",
          "2017/4",
          "2018/4",
          "2017/5",
          "2017/6",
          "2017/7",
          "2017/8",
          "2018/8",
          "2017/9",
          "2018/9",
          "2017/10",
          "2017/11",
          "2018/11",
          "2017/12",
          "2018/12",
          "2016",
          "2017",
          "2018",
          "2016",
          "2017",
          "2018",
          "2016",
          "2017",
          "2018",
          "2016",
          "2017",
          "2018",
          "2016",
          "2017",
          "2016",
          "2017",
          "2018",
          "2016",
          "2017",
          "2018",
          "2016",
          "2017",
          "2018",
          "2016",
          "2017",
          "2018",
          "2016",
          "2017",
          "2018",
          "2016",
          "2017",
          "2018",
          "2016",
          "2017",
          "2018",
          "",
          "",
          ""
         ],
         "type": "sunburst",
         "values": [
          8399.7,
          8759.74,
          6189.8,
          12839.55,
          8549.75,
          2659.92,
          6389.77,
          11079.64,
          9079.74,
          4679.83,
          10019.73,
          16039.5,
          6359.77,
          6349.81,
          6449.77,
          8229.75,
          6719.76,
          10269.7,
          10259.63,
          9149.76,
          349.99,
          8999.68,
          7509.79,
          12899.54,
          5429.84,
          1959.94,
          5309.81,
          6709.8,
          639.98,
          8759.69,
          5189.85,
          9949.82,
          6749.87,
          9689.85,
          20399.62,
          7459.86,
          7279.9,
          13799.75,
          6369.88,
          9779.86,
          8649.84,
          7019.87,
          36049.53,
          13899.74,
          6059.89,
          11399.79,
          5929.89,
          10949.8,
          3379.94,
          899.99,
          17999.67,
          6019.89,
          17299.69,
          2649.95,
          17499.68,
          5239.9,
          14849.73,
          5999.89,
          14349.74,
          3739.93,
          28269.4,
          11779.79,
          35959.59,
          22939.5,
          19439.67,
          23279.69,
          29449.4,
          22049.63,
          68399.15,
          24619.51,
          18199.67,
          100808.88,
          24199.48,
          15289.71,
          16059.66,
          31899.44,
          25199.44,
          23009.57,
          1719.97,
          25779.4,
          23609.55,
          2139.96,
          28749.38,
          12339.81,
          749.99,
          28549.37,
          22889.62,
          699.99,
          19279.62,
          20429.67,
          539.98,
          23869.51,
          22449.63,
          899.99,
          8599.97,
          5799.98,
          17799.94,
          2799.99,
          2069.93,
          839.96,
          2719.88,
          1289.95,
          3339.86,
          629.97,
          4239.84,
          2549.89,
          1089.95,
          2569.91,
          1289.95,
          1209.95,
          2589.89,
          3129.87,
          1669.93,
          2049.91,
          5989.93,
          9139.88,
          2939.98,
          9089.93,
          2509.97,
          21049.77,
          20269.79,
          15879.84,
          5489.91,
          11739.86,
          18409.84,
          13219.84,
          14409.81,
          15669.8,
          8009.9,
          10567.92,
          2641.98,
          5198,
          9246.93,
          13209.9,
          6518.99,
          10567.92,
          3962.97,
          2599,
          7925.94,
          3962.97,
          10396,
          10567.92,
          7925.94,
          7925.94,
          3962.97,
          9246.93,
          2641.98,
          11888.91,
          2641.98,
          11888.91,
          2641.98,
          10567.92,
          5283.96,
          17172.87,
          2641.98,
          9658,
          2634,
          898,
          11025,
          2674,
          11085,
          3941,
          878,
          8022,
          1796,
          3083,
          11863,
          2185,
          8860,
          449,
          8391,
          3123,
          9369,
          5757,
          14108,
          1287,
          10127,
          4390,
          10656,
          3103,
          15515,
          1287,
          3749.95,
          2999.96,
          1499.98,
          3749.95,
          1499.98,
          6749.91,
          1499.98,
          5999.92,
          749.99,
          749.99,
          8249.89,
          3749.95,
          9749.87,
          6749.91,
          749.99,
          6749.91,
          1499.98,
          5999.92,
          1499.98,
          6749.91,
          2999.96,
          2999.96,
          1499.98,
          179.98,
          469.97,
          1599.92,
          2599.88,
          109.99,
          219.98,
          549.95,
          329.97,
          219.98,
          439.96,
          219.98,
          439.96,
          109.99,
          10174.78,
          2825.94,
          10226.78,
          1402.97,
          5858.88,
          4865.89,
          10850.78,
          8846.81,
          10178.78,
          9902.79,
          8335.82,
          10062.79,
          533.99,
          12107.75,
          15999.67,
          4180.91,
          10786.78,
          6943.85,
          3495.9,
          7345.84,
          2823.94,
          13921.72,
          3738.93,
          14497.69,
          7878.82,
          11618.72,
          19556.59,
          13043.7,
          619.99,
          12074.77,
          10500.75,
          18375.62,
          11197.78,
          9805.81,
          3119.98,
          3119.98,
          4679.97,
          1559.99,
          1559.99,
          6239.96,
          1559.99,
          9359.94,
          10919.93,
          6239.96,
          1559.99,
          3119.98,
          832.99,
          832.99,
          2498.97,
          1665.98,
          1665.98,
          4164.95,
          2498.97,
          2498.97,
          2498.97,
          2498.97,
          28409.96,
          3361.98,
          22477.94,
          14600.95,
          3098,
          16545.92,
          5042.97,
          3098,
          36946.9,
          4910.98,
          9557.98,
          35661.88,
          3098,
          35925.86,
          6459.98,
          38627.89,
          12787.97,
          33584.92,
          16017.96,
          28937.92,
          11502.95,
          30618.91,
          6196,
          24686.89,
          4910.98,
          43538.87,
          11766.93,
          12879.85,
          11789.86,
          13429.94,
          13289.83,
          15115.85,
          13045.89,
          18169.76,
          40552.6,
          17369.94,
          9879.88,
          14848.85,
          37088.8,
          15699.79,
          30687.76,
          16049.76,
          20007.85,
          11169.83,
          18681.81,
          13699.81,
          41249.63,
          832.99,
          20399.69,
          15754.82,
          9639.84,
          12161.84,
          10349.87,
          16728.81,
          1499,
          7289.89,
          14605.87,
          6629.92,
          11395.97,
          1625.98,
          749.99,
          5879.93,
          15417.97,
          749.99,
          11072.95,
          1625.98,
          4379.95,
          875.99,
          1751.98,
          1625.98,
          4625.94,
          2501.97,
          5879.93,
          2159.9,
          2269.89,
          2359.9,
          3119.87,
          3949.83,
          3759.84,
          3239.82,
          7249.68,
          3019.88,
          2219.88,
          209.99,
          2819.88,
          209.99,
          3599.82,
          3659.86,
          4489.79,
          3919.82,
          2629.89,
          20999.94,
          17399.94,
          24499.93,
          27999.92,
          9999.97,
          10499.97,
          49099.86,
          24499.93,
          34999.9,
          3499.99,
          3499.99,
          38499.89,
          10499.97,
          31499.91,
          29999.9,
          36999.91,
          63599.85,
          11999.96,
          14999.97,
          53799.86,
          26999.91,
          8999.97,
          58599.83,
          12999.97,
          151099.56,
          8999.97,
          15999.96,
          32999.89,
          28999.93,
          29999.9,
          8999.97,
          4499.99,
          26999.91,
          39999.9,
          26999.91,
          31999.92,
          44999.85,
          17999.94,
          38999.87,
          29999.94,
          32999.89,
          35999.9,
          4599.98,
          99299.65,
          74339.73,
          73379.67,
          47799.82,
          76809.74,
          42839.78,
          62399.8,
          87879.68,
          76139.66,
          80499.73,
          29269.91,
          114409.46,
          93199.69,
          41009.85,
          85699.75,
          86909.73,
          75799.75,
          52979.79,
          4999.96,
          96799.67,
          42379.83,
          139899.51,
          67339.78,
          63399.77,
          101339.69,
          72899.76,
          84029.67,
          57199.78,
          28079.87,
          96699.73,
          166109.53,
          111899.68,
          56289.77,
          82699.78,
          108879.64,
          85199.77,
          296289.19,
          95599.75,
          142199.66,
          68699.84,
          70199.8,
          6399.98,
          118699.73,
          6399.98,
          67199.83,
          91099.76,
          9599.97,
          93099.8,
          2499.99,
          8399.7,
          13099.56,
          9699.61,
          12839.55,
          14179.480000000001,
          7539.71,
          6389.77,
          18369.329999999998,
          15399.44,
          4679.83,
          17499.39,
          28438.95,
          6359.77,
          10679.62,
          6449.77,
          13019.54,
          209.99,
          6719.76,
          14819.49,
          209.99,
          10259.63,
          13959.53,
          349.99,
          8999.68,
          13979.52,
          12899.54,
          13489.46,
          1959.94,
          5309.81,
          12409.54,
          639.98,
          8759.69,
          9869.65,
          9949.82,
          16924.65,
          12515.79,
          20399.62,
          17686.64,
          8682.869999999999,
          13799.75,
          12228.76,
          14645.75,
          8649.84,
          17870.65,
          44896.34,
          13899.74,
          16238.670000000002,
          11399.79,
          15832.68,
          10949.8,
          11715.76,
          899.99,
          17999.67,
          16082.68,
          533.99,
          17299.69,
          14757.7,
          17499.68,
          21239.57,
          14849.73,
          10180.8,
          14349.74,
          14526.710000000001,
          37927.4,
          21357.64,
          40353.49,
          33964.5,
          29459.51,
          26103.629999999997,
          40534.4,
          39912.35,
          73016.07999999999,
          32641.51,
          34493.36,
          111770.70000000001,
          36062.479999999996,
          29093.43,
          24919.66,
          51905.03,
          33590.44,
          39176.270000000004,
          2339.96,
          35148.4,
          41441.32,
          2139.96,
          42857.380000000005,
          24127.559999999998,
          749.99,
          38676.369999999995,
          45655.24,
          699.99,
          29935.62,
          34730.45,
          539.98,
          39384.509999999995,
          33542.44,
          899.99,
          28409.96,
          24361.92,
          17399.94,
          22477.94,
          39100.880000000005,
          3098,
          16545.92,
          33042.89,
          13097.97,
          36946.9,
          15410.949999999999,
          58657.84,
          35661.88,
          27597.93,
          35925.86,
          41459.880000000005,
          38627.89,
          12787.97,
          33584.92,
          19517.949999999997,
          28937.92,
          15002.94,
          30618.91,
          44695.89,
          24686.89,
          15410.949999999999,
          43538.87,
          43266.84,
          29999.9,
          40119.89000000001,
          75319.8,
          11999.96,
          19679.94,
          53799.86,
          26999.91,
          10559.96,
          65959.8,
          12999.97,
          175139.46,
          8999.97,
          15999.96,
          32999.89,
          30559.920000000002,
          29999.9,
          18359.91,
          4499.99,
          26999.91,
          50919.83,
          26999.91,
          38239.88,
          2799.99,
          44999.85,
          17999.94,
          1559.99,
          38999.87,
          33119.92,
          32999.89,
          35999.9,
          4599.98,
          126497.37,
          97761.45999999999,
          93507.59,
          74086.53,
          115108.36,
          67677.61,
          97887.39,
          145484.13,
          100284.55,
          104305.47,
          69881.49,
          182914.04,
          127717.29000000001,
          100919.32,
          119425.32,
          120535.40999999999,
          102966.41999999998,
          89292.4,
          4999.96,
          129138.3,
          108680.23,
          832.99,
          178188.03,
          102955.37000000001,
          90357.44,
          130410.31,
          91533.55,
          116428.28,
          1499,
          84662.5,
          54837.6,
          103329.65,
          177505.5,
          113525.65999999999,
          57039.759999999995,
          88579.70999999999,
          124297.61,
          85949.76000000001,
          307362.14,
          97225.73,
          146579.61000000002,
          69575.83,
          71951.78,
          6399.98,
          120325.70999999999,
          6399.98,
          71825.77,
          93601.73,
          9599.97,
          98979.73000000001,
          2499.99,
          241184.15,
          316954.77,
          426301.72,
          175768.1,
          348740.47000000003,
          223941.44,
          202157.14,
          348177.13,
          406701.2,
          187223.55,
          254105.57,
          909179.47,
          228701.13,
          297754.66,
          231120.29,
          419892.07,
          209.99,
          222854.21,
          255727.63,
          12949.89,
          253130.83,
          322553.32,
          10256.91,
          303282.61,
          329388.68,
          9949.96,
          235051.78999999998,
          345316.18,
          4219.92,
          205315.47,
          315881.67,
          12278.93,
          223695.2,
          291022.87,
          7999.959999999999,
          2709484.47,
          3845515.02,
          2023989.39
         ]
        }
       ],
       "layout": {
        "font": {
         "color": "RebeccaPurple",
         "family": "Arial",
         "size": 12
        },
        "height": 800,
        "legend": {
         "tracegroupgap": 0
        },
        "margin": {
         "b": 0,
         "l": 0,
         "r": 0,
         "t": 40
        },
        "paper_bgcolor": "rgba(0,0,0,0)",
        "template": {
         "data": {
          "bar": [
           {
            "error_x": {
             "color": "#2a3f5f"
            },
            "error_y": {
             "color": "#2a3f5f"
            },
            "marker": {
             "line": {
              "color": "#E5ECF6",
              "width": 0.5
             },
             "pattern": {
              "fillmode": "overlay",
              "size": 10,
              "solidity": 0.2
             }
            },
            "type": "bar"
           }
          ],
          "barpolar": [
           {
            "marker": {
             "line": {
              "color": "#E5ECF6",
              "width": 0.5
             },
             "pattern": {
              "fillmode": "overlay",
              "size": 10,
              "solidity": 0.2
             }
            },
            "type": "barpolar"
           }
          ],
          "carpet": [
           {
            "aaxis": {
             "endlinecolor": "#2a3f5f",
             "gridcolor": "white",
             "linecolor": "white",
             "minorgridcolor": "white",
             "startlinecolor": "#2a3f5f"
            },
            "baxis": {
             "endlinecolor": "#2a3f5f",
             "gridcolor": "white",
             "linecolor": "white",
             "minorgridcolor": "white",
             "startlinecolor": "#2a3f5f"
            },
            "type": "carpet"
           }
          ],
          "choropleth": [
           {
            "colorbar": {
             "outlinewidth": 0,
             "ticks": ""
            },
            "type": "choropleth"
           }
          ],
          "contour": [
           {
            "colorbar": {
             "outlinewidth": 0,
             "ticks": ""
            },
            "colorscale": [
             [
              0,
              "#0d0887"
             ],
             [
              0.1111111111111111,
              "#46039f"
             ],
             [
              0.2222222222222222,
              "#7201a8"
             ],
             [
              0.3333333333333333,
              "#9c179e"
             ],
             [
              0.4444444444444444,
              "#bd3786"
             ],
             [
              0.5555555555555556,
              "#d8576b"
             ],
             [
              0.6666666666666666,
              "#ed7953"
             ],
             [
              0.7777777777777778,
              "#fb9f3a"
             ],
             [
              0.8888888888888888,
              "#fdca26"
             ],
             [
              1,
              "#f0f921"
             ]
            ],
            "type": "contour"
           }
          ],
          "contourcarpet": [
           {
            "colorbar": {
             "outlinewidth": 0,
             "ticks": ""
            },
            "type": "contourcarpet"
           }
          ],
          "heatmap": [
           {
            "colorbar": {
             "outlinewidth": 0,
             "ticks": ""
            },
            "colorscale": [
             [
              0,
              "#0d0887"
             ],
             [
              0.1111111111111111,
              "#46039f"
             ],
             [
              0.2222222222222222,
              "#7201a8"
             ],
             [
              0.3333333333333333,
              "#9c179e"
             ],
             [
              0.4444444444444444,
              "#bd3786"
             ],
             [
              0.5555555555555556,
              "#d8576b"
             ],
             [
              0.6666666666666666,
              "#ed7953"
             ],
             [
              0.7777777777777778,
              "#fb9f3a"
             ],
             [
              0.8888888888888888,
              "#fdca26"
             ],
             [
              1,
              "#f0f921"
             ]
            ],
            "type": "heatmap"
           }
          ],
          "heatmapgl": [
           {
            "colorbar": {
             "outlinewidth": 0,
             "ticks": ""
            },
            "colorscale": [
             [
              0,
              "#0d0887"
             ],
             [
              0.1111111111111111,
              "#46039f"
             ],
             [
              0.2222222222222222,
              "#7201a8"
             ],
             [
              0.3333333333333333,
              "#9c179e"
             ],
             [
              0.4444444444444444,
              "#bd3786"
             ],
             [
              0.5555555555555556,
              "#d8576b"
             ],
             [
              0.6666666666666666,
              "#ed7953"
             ],
             [
              0.7777777777777778,
              "#fb9f3a"
             ],
             [
              0.8888888888888888,
              "#fdca26"
             ],
             [
              1,
              "#f0f921"
             ]
            ],
            "type": "heatmapgl"
           }
          ],
          "histogram": [
           {
            "marker": {
             "pattern": {
              "fillmode": "overlay",
              "size": 10,
              "solidity": 0.2
             }
            },
            "type": "histogram"
           }
          ],
          "histogram2d": [
           {
            "colorbar": {
             "outlinewidth": 0,
             "ticks": ""
            },
            "colorscale": [
             [
              0,
              "#0d0887"
             ],
             [
              0.1111111111111111,
              "#46039f"
             ],
             [
              0.2222222222222222,
              "#7201a8"
             ],
             [
              0.3333333333333333,
              "#9c179e"
             ],
             [
              0.4444444444444444,
              "#bd3786"
             ],
             [
              0.5555555555555556,
              "#d8576b"
             ],
             [
              0.6666666666666666,
              "#ed7953"
             ],
             [
              0.7777777777777778,
              "#fb9f3a"
             ],
             [
              0.8888888888888888,
              "#fdca26"
             ],
             [
              1,
              "#f0f921"
             ]
            ],
            "type": "histogram2d"
           }
          ],
          "histogram2dcontour": [
           {
            "colorbar": {
             "outlinewidth": 0,
             "ticks": ""
            },
            "colorscale": [
             [
              0,
              "#0d0887"
             ],
             [
              0.1111111111111111,
              "#46039f"
             ],
             [
              0.2222222222222222,
              "#7201a8"
             ],
             [
              0.3333333333333333,
              "#9c179e"
             ],
             [
              0.4444444444444444,
              "#bd3786"
             ],
             [
              0.5555555555555556,
              "#d8576b"
             ],
             [
              0.6666666666666666,
              "#ed7953"
             ],
             [
              0.7777777777777778,
              "#fb9f3a"
             ],
             [
              0.8888888888888888,
              "#fdca26"
             ],
             [
              1,
              "#f0f921"
             ]
            ],
            "type": "histogram2dcontour"
           }
          ],
          "mesh3d": [
           {
            "colorbar": {
             "outlinewidth": 0,
             "ticks": ""
            },
            "type": "mesh3d"
           }
          ],
          "parcoords": [
           {
            "line": {
             "colorbar": {
              "outlinewidth": 0,
              "ticks": ""
             }
            },
            "type": "parcoords"
           }
          ],
          "pie": [
           {
            "automargin": true,
            "type": "pie"
           }
          ],
          "scatter": [
           {
            "fillpattern": {
             "fillmode": "overlay",
             "size": 10,
             "solidity": 0.2
            },
            "type": "scatter"
           }
          ],
          "scatter3d": [
           {
            "line": {
             "colorbar": {
              "outlinewidth": 0,
              "ticks": ""
             }
            },
            "marker": {
             "colorbar": {
              "outlinewidth": 0,
              "ticks": ""
             }
            },
            "type": "scatter3d"
           }
          ],
          "scattercarpet": [
           {
            "marker": {
             "colorbar": {
              "outlinewidth": 0,
              "ticks": ""
             }
            },
            "type": "scattercarpet"
           }
          ],
          "scattergeo": [
           {
            "marker": {
             "colorbar": {
              "outlinewidth": 0,
              "ticks": ""
             }
            },
            "type": "scattergeo"
           }
          ],
          "scattergl": [
           {
            "marker": {
             "colorbar": {
              "outlinewidth": 0,
              "ticks": ""
             }
            },
            "type": "scattergl"
           }
          ],
          "scattermapbox": [
           {
            "marker": {
             "colorbar": {
              "outlinewidth": 0,
              "ticks": ""
             }
            },
            "type": "scattermapbox"
           }
          ],
          "scatterpolar": [
           {
            "marker": {
             "colorbar": {
              "outlinewidth": 0,
              "ticks": ""
             }
            },
            "type": "scatterpolar"
           }
          ],
          "scatterpolargl": [
           {
            "marker": {
             "colorbar": {
              "outlinewidth": 0,
              "ticks": ""
             }
            },
            "type": "scatterpolargl"
           }
          ],
          "scatterternary": [
           {
            "marker": {
             "colorbar": {
              "outlinewidth": 0,
              "ticks": ""
             }
            },
            "type": "scatterternary"
           }
          ],
          "surface": [
           {
            "colorbar": {
             "outlinewidth": 0,
             "ticks": ""
            },
            "colorscale": [
             [
              0,
              "#0d0887"
             ],
             [
              0.1111111111111111,
              "#46039f"
             ],
             [
              0.2222222222222222,
              "#7201a8"
             ],
             [
              0.3333333333333333,
              "#9c179e"
             ],
             [
              0.4444444444444444,
              "#bd3786"
             ],
             [
              0.5555555555555556,
              "#d8576b"
             ],
             [
              0.6666666666666666,
              "#ed7953"
             ],
             [
              0.7777777777777778,
              "#fb9f3a"
             ],
             [
              0.8888888888888888,
              "#fdca26"
             ],
             [
              1,
              "#f0f921"
             ]
            ],
            "type": "surface"
           }
          ],
          "table": [
           {
            "cells": {
             "fill": {
              "color": "#EBF0F8"
             },
             "line": {
              "color": "white"
             }
            },
            "header": {
             "fill": {
              "color": "#C8D4E3"
             },
             "line": {
              "color": "white"
             }
            },
            "type": "table"
           }
          ]
         },
         "layout": {
          "annotationdefaults": {
           "arrowcolor": "#2a3f5f",
           "arrowhead": 0,
           "arrowwidth": 1
          },
          "autotypenumbers": "strict",
          "coloraxis": {
           "colorbar": {
            "outlinewidth": 0,
            "ticks": ""
           }
          },
          "colorscale": {
           "diverging": [
            [
             0,
             "#8e0152"
            ],
            [
             0.1,
             "#c51b7d"
            ],
            [
             0.2,
             "#de77ae"
            ],
            [
             0.3,
             "#f1b6da"
            ],
            [
             0.4,
             "#fde0ef"
            ],
            [
             0.5,
             "#f7f7f7"
            ],
            [
             0.6,
             "#e6f5d0"
            ],
            [
             0.7,
             "#b8e186"
            ],
            [
             0.8,
             "#7fbc41"
            ],
            [
             0.9,
             "#4d9221"
            ],
            [
             1,
             "#276419"
            ]
           ],
           "sequential": [
            [
             0,
             "#0d0887"
            ],
            [
             0.1111111111111111,
             "#46039f"
            ],
            [
             0.2222222222222222,
             "#7201a8"
            ],
            [
             0.3333333333333333,
             "#9c179e"
            ],
            [
             0.4444444444444444,
             "#bd3786"
            ],
            [
             0.5555555555555556,
             "#d8576b"
            ],
            [
             0.6666666666666666,
             "#ed7953"
            ],
            [
             0.7777777777777778,
             "#fb9f3a"
            ],
            [
             0.8888888888888888,
             "#fdca26"
            ],
            [
             1,
             "#f0f921"
            ]
           ],
           "sequentialminus": [
            [
             0,
             "#0d0887"
            ],
            [
             0.1111111111111111,
             "#46039f"
            ],
            [
             0.2222222222222222,
             "#7201a8"
            ],
            [
             0.3333333333333333,
             "#9c179e"
            ],
            [
             0.4444444444444444,
             "#bd3786"
            ],
            [
             0.5555555555555556,
             "#d8576b"
            ],
            [
             0.6666666666666666,
             "#ed7953"
            ],
            [
             0.7777777777777778,
             "#fb9f3a"
            ],
            [
             0.8888888888888888,
             "#fdca26"
            ],
            [
             1,
             "#f0f921"
            ]
           ]
          },
          "colorway": [
           "#636efa",
           "#EF553B",
           "#00cc96",
           "#ab63fa",
           "#FFA15A",
           "#19d3f3",
           "#FF6692",
           "#B6E880",
           "#FF97FF",
           "#FECB52"
          ],
          "font": {
           "color": "#2a3f5f"
          },
          "geo": {
           "bgcolor": "white",
           "lakecolor": "white",
           "landcolor": "#E5ECF6",
           "showlakes": true,
           "showland": true,
           "subunitcolor": "white"
          },
          "hoverlabel": {
           "align": "left"
          },
          "hovermode": "closest",
          "mapbox": {
           "style": "light"
          },
          "paper_bgcolor": "white",
          "plot_bgcolor": "#E5ECF6",
          "polar": {
           "angularaxis": {
            "gridcolor": "white",
            "linecolor": "white",
            "ticks": ""
           },
           "bgcolor": "#E5ECF6",
           "radialaxis": {
            "gridcolor": "white",
            "linecolor": "white",
            "ticks": ""
           }
          },
          "scene": {
           "xaxis": {
            "backgroundcolor": "#E5ECF6",
            "gridcolor": "white",
            "gridwidth": 2,
            "linecolor": "white",
            "showbackground": true,
            "ticks": "",
            "zerolinecolor": "white"
           },
           "yaxis": {
            "backgroundcolor": "#E5ECF6",
            "gridcolor": "white",
            "gridwidth": 2,
            "linecolor": "white",
            "showbackground": true,
            "ticks": "",
            "zerolinecolor": "white"
           },
           "zaxis": {
            "backgroundcolor": "#E5ECF6",
            "gridcolor": "white",
            "gridwidth": 2,
            "linecolor": "white",
            "showbackground": true,
            "ticks": "",
            "zerolinecolor": "white"
           }
          },
          "shapedefaults": {
           "line": {
            "color": "#2a3f5f"
           }
          },
          "ternary": {
           "aaxis": {
            "gridcolor": "white",
            "linecolor": "white",
            "ticks": ""
           },
           "baxis": {
            "gridcolor": "white",
            "linecolor": "white",
            "ticks": ""
           },
           "bgcolor": "#E5ECF6",
           "caxis": {
            "gridcolor": "white",
            "linecolor": "white",
            "ticks": ""
           }
          },
          "title": {
           "x": 0.05
          },
          "xaxis": {
           "automargin": true,
           "gridcolor": "white",
           "linecolor": "white",
           "ticks": "",
           "title": {
            "standoff": 15
           },
           "zerolinecolor": "white",
           "zerolinewidth": 2
          },
          "yaxis": {
           "automargin": true,
           "gridcolor": "white",
           "linecolor": "white",
           "ticks": "",
           "title": {
            "standoff": 15
           },
           "zerolinecolor": "white",
           "zerolinewidth": 2
          }
         }
        },
        "title": {
         "text": "Monthly Sales by Category and Brand (Sunburst)"
        },
        "width": 800
       }
      }
     },
     "metadata": {},
     "output_type": "display_data"
    }
   ],
   "source": [
    "df = execute_query(views_queries[5])\n",
    "# Create a sunburst chart\n",
    "fig = px.sunburst(df, path=['year', 'month', 'category_name', 'brand_name'],\n",
    "                  values='monthly_sales', title='Monthly Sales by Category and Brand (Sunburst)',\n",
    "                  height=800, width=800)\n",
    "\n",
    "# Customize the layout\n",
    "fig.update_layout(\n",
    "    margin=dict(l=0, r=0, b=0, t=40),\n",
    "    font=dict(family=\"Arial\", size=12, color=\"RebeccaPurple\"),\n",
    "    paper_bgcolor='rgba(0,0,0,0)',  # Make the background transparent\n",
    ")\n",
    "\n",
    "# Style the sunburst chart\n",
    "fig.update_traces(\n",
    "    marker=dict(\n",
    "        line=dict(\n",
    "            color='black',  # Border color\n",
    "            width=0.5  # Border width\n",
    "        )\n",
    "    )\n",
    ")\n",
    "\n"
   ]
  },
  {
   "cell_type": "code",
   "execution_count": 14,
   "metadata": {},
   "outputs": [],
   "source": [
    "fig.write_html(\"monthly_sales_sunburst.html\")"
   ]
  },
  {
   "cell_type": "code",
   "execution_count": null,
   "metadata": {},
   "outputs": [],
   "source": []
  }
 ],
 "metadata": {
  "kernelspec": {
   "display_name": "venv",
   "language": "python",
   "name": "python3"
  },
  "language_info": {
   "codemirror_mode": {
    "name": "ipython",
    "version": 3
   },
   "file_extension": ".py",
   "mimetype": "text/x-python",
   "name": "python",
   "nbconvert_exporter": "python",
   "pygments_lexer": "ipython3",
   "version": "3.12.0"
  }
 },
 "nbformat": 4,
 "nbformat_minor": 2
}
